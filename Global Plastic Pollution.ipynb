{
 "cells": [
  {
   "cell_type": "markdown",
   "id": "886b41a0",
   "metadata": {},
   "source": [
    "#### Important Findings:\n",
    "\n",
    "- **Global Plastic Production is constantly increasing throughout these years. The World is producing four times as much plastics as four decades ago.**\n",
    "- **Mismanaged Waste in 2010 is highest for 2010 and nearly zero for Christmas Island, Cocos Islands, Falkland Islands, Niue, and Saint Pierre and Miquelon.**\n",
    "- **The GDP per person is highest in Europe and the lowest in Africa in 2010. We do not have enough data to say that Antarctica has the lowest GDP per person in 2010.**\n",
    "- **In 2010, Per Person Plastic Waste is highest for Kuwait and lowest for India.**\n",
    "- **As the GDP per person increases Plastic waste per person also increases.**"
   ]
  },
  {
   "cell_type": "code",
   "execution_count": 1,
   "id": "c38af56c",
   "metadata": {},
   "outputs": [],
   "source": [
    "#python libraries\n",
    "import numpy as np\n",
    "import pandas as pd\n",
    "import matplotlib.pyplot as plt \n",
    "import seaborn as sns\n",
    "import geopandas as gpd\n",
    "\n",
    "import warnings\n",
    "warnings.filterwarnings('ignore')\n",
    "sns.set()"
   ]
  },
  {
   "cell_type": "code",
   "execution_count": 6,
   "id": "ea7a7470",
   "metadata": {},
   "outputs": [
    {
     "name": "stdout",
     "output_type": "stream",
     "text": [
      "Downloading plastic-datasets.zip to E:\\Project\\1. Global Plastic Pollution Analysis\n",
      "\n"
     ]
    },
    {
     "name": "stderr",
     "output_type": "stream",
     "text": [
      "\n",
      "  0%|          | 0.00/734k [00:00<?, ?B/s]\n",
      "100%|##########| 734k/734k [00:00<00:00, 2.23MB/s]\n",
      "100%|##########| 734k/734k [00:00<00:00, 2.21MB/s]\n"
     ]
    }
   ],
   "source": [
    "#downloading the dataset\n",
    "!kaggle datasets download -d sohamgade/plastic-datasets"
   ]
  },
  {
   "cell_type": "code",
   "execution_count": 7,
   "id": "54bc6092",
   "metadata": {},
   "outputs": [
    {
     "name": "stdout",
     "output_type": "stream",
     "text": [
      "Extracted all the Datasets.\n"
     ]
    }
   ],
   "source": [
    "#extracting the zip file\n",
    "from zipfile import ZipFile\n",
    "dataset = \"plastic-datasets.zip\"\n",
    "with ZipFile(dataset,'r') as zip:\n",
    "    zip.extractall()\n",
    "    print(\"Extracted all the Datasets.\")"
   ]
  },
  {
   "cell_type": "code",
   "execution_count": 33,
   "id": "b8d35c32",
   "metadata": {},
   "outputs": [
    {
     "name": "stdout",
     "output_type": "stream",
     "text": [
      "global-plastics-production.csv\n",
      "mismanaged-waste-global-total.csv\n",
      "per-capita-mismanaged-plastic-waste-vs-gdp-per-capita.csv\n",
      "per-capita-plastic-waste-vs-gdp-per-capita.csv\n",
      "plastic-waste-per-capita.csv\n"
     ]
    }
   ],
   "source": [
    "import os\n",
    "\n",
    "for lst in os.listdir():\n",
    "    match = lst.rfind(\"csv\")\n",
    "    if match>0:\n",
    "        print(lst)"
   ]
  },
  {
   "cell_type": "markdown",
   "id": "136415b6",
   "metadata": {},
   "source": [
    "## Dataset: Global Plastics Production"
   ]
  },
  {
   "cell_type": "code",
   "execution_count": 53,
   "id": "004e16b3",
   "metadata": {},
   "outputs": [
    {
     "data": {
      "text/html": [
       "<div>\n",
       "<style scoped>\n",
       "    .dataframe tbody tr th:only-of-type {\n",
       "        vertical-align: middle;\n",
       "    }\n",
       "\n",
       "    .dataframe tbody tr th {\n",
       "        vertical-align: top;\n",
       "    }\n",
       "\n",
       "    .dataframe thead th {\n",
       "        text-align: right;\n",
       "    }\n",
       "</style>\n",
       "<table border=\"1\" class=\"dataframe\">\n",
       "  <thead>\n",
       "    <tr style=\"text-align: right;\">\n",
       "      <th></th>\n",
       "      <th>Entity</th>\n",
       "      <th>Code</th>\n",
       "      <th>Year</th>\n",
       "      <th>Global plastics production (million tonnes)</th>\n",
       "    </tr>\n",
       "  </thead>\n",
       "  <tbody>\n",
       "    <tr>\n",
       "      <th>0</th>\n",
       "      <td>World</td>\n",
       "      <td>OWID_WRL</td>\n",
       "      <td>1950</td>\n",
       "      <td>2000000</td>\n",
       "    </tr>\n",
       "    <tr>\n",
       "      <th>1</th>\n",
       "      <td>World</td>\n",
       "      <td>OWID_WRL</td>\n",
       "      <td>1951</td>\n",
       "      <td>2000000</td>\n",
       "    </tr>\n",
       "    <tr>\n",
       "      <th>2</th>\n",
       "      <td>World</td>\n",
       "      <td>OWID_WRL</td>\n",
       "      <td>1952</td>\n",
       "      <td>2000000</td>\n",
       "    </tr>\n",
       "    <tr>\n",
       "      <th>3</th>\n",
       "      <td>World</td>\n",
       "      <td>OWID_WRL</td>\n",
       "      <td>1953</td>\n",
       "      <td>3000000</td>\n",
       "    </tr>\n",
       "    <tr>\n",
       "      <th>4</th>\n",
       "      <td>World</td>\n",
       "      <td>OWID_WRL</td>\n",
       "      <td>1954</td>\n",
       "      <td>3000000</td>\n",
       "    </tr>\n",
       "  </tbody>\n",
       "</table>\n",
       "</div>"
      ],
      "text/plain": [
       "  Entity      Code  Year  Global plastics production (million tonnes)\n",
       "0  World  OWID_WRL  1950                                      2000000\n",
       "1  World  OWID_WRL  1951                                      2000000\n",
       "2  World  OWID_WRL  1952                                      2000000\n",
       "3  World  OWID_WRL  1953                                      3000000\n",
       "4  World  OWID_WRL  1954                                      3000000"
      ]
     },
     "execution_count": 53,
     "metadata": {},
     "output_type": "execute_result"
    }
   ],
   "source": [
    "gpp = pd.read_csv(\"global-plastics-production.csv\")\n",
    "gpp.head()"
   ]
  },
  {
   "cell_type": "code",
   "execution_count": 54,
   "id": "57f32ced",
   "metadata": {},
   "outputs": [
    {
     "name": "stdout",
     "output_type": "stream",
     "text": [
      "<class 'pandas.core.frame.DataFrame'>\n",
      "RangeIndex: 66 entries, 0 to 65\n",
      "Data columns (total 4 columns):\n",
      " #   Column                                       Non-Null Count  Dtype \n",
      "---  ------                                       --------------  ----- \n",
      " 0   Entity                                       66 non-null     object\n",
      " 1   Code                                         66 non-null     object\n",
      " 2   Year                                         66 non-null     int64 \n",
      " 3   Global plastics production (million tonnes)  66 non-null     int64 \n",
      "dtypes: int64(2), object(2)\n",
      "memory usage: 2.2+ KB\n"
     ]
    }
   ],
   "source": [
    "gpp.info()\n",
    "#There is no missing value."
   ]
  },
  {
   "cell_type": "code",
   "execution_count": 55,
   "id": "00402cd2",
   "metadata": {},
   "outputs": [
    {
     "data": {
      "text/html": [
       "<div>\n",
       "<style scoped>\n",
       "    .dataframe tbody tr th:only-of-type {\n",
       "        vertical-align: middle;\n",
       "    }\n",
       "\n",
       "    .dataframe tbody tr th {\n",
       "        vertical-align: top;\n",
       "    }\n",
       "\n",
       "    .dataframe thead th {\n",
       "        text-align: right;\n",
       "    }\n",
       "</style>\n",
       "<table border=\"1\" class=\"dataframe\">\n",
       "  <thead>\n",
       "    <tr style=\"text-align: right;\">\n",
       "      <th></th>\n",
       "      <th>count</th>\n",
       "      <th>mean</th>\n",
       "      <th>std</th>\n",
       "      <th>min</th>\n",
       "      <th>25%</th>\n",
       "      <th>50%</th>\n",
       "      <th>75%</th>\n",
       "      <th>max</th>\n",
       "    </tr>\n",
       "  </thead>\n",
       "  <tbody>\n",
       "    <tr>\n",
       "      <th>Year</th>\n",
       "      <td>66.0</td>\n",
       "      <td>1.982500e+03</td>\n",
       "      <td>1.919635e+01</td>\n",
       "      <td>1950.0</td>\n",
       "      <td>1966.25</td>\n",
       "      <td>1982.5</td>\n",
       "      <td>1.998750e+03</td>\n",
       "      <td>2015.0</td>\n",
       "    </tr>\n",
       "    <tr>\n",
       "      <th>Global plastics production (million tonnes)</th>\n",
       "      <td>66.0</td>\n",
       "      <td>1.185303e+08</td>\n",
       "      <td>1.126182e+08</td>\n",
       "      <td>2000000.0</td>\n",
       "      <td>20750000.00</td>\n",
       "      <td>76500000.0</td>\n",
       "      <td>1.985000e+08</td>\n",
       "      <td>381000000.0</td>\n",
       "    </tr>\n",
       "  </tbody>\n",
       "</table>\n",
       "</div>"
      ],
      "text/plain": [
       "                                             count          mean  \\\n",
       "Year                                          66.0  1.982500e+03   \n",
       "Global plastics production (million tonnes)   66.0  1.185303e+08   \n",
       "\n",
       "                                                      std        min  \\\n",
       "Year                                         1.919635e+01     1950.0   \n",
       "Global plastics production (million tonnes)  1.126182e+08  2000000.0   \n",
       "\n",
       "                                                     25%         50%  \\\n",
       "Year                                             1966.25      1982.5   \n",
       "Global plastics production (million tonnes)  20750000.00  76500000.0   \n",
       "\n",
       "                                                      75%          max  \n",
       "Year                                         1.998750e+03       2015.0  \n",
       "Global plastics production (million tonnes)  1.985000e+08  381000000.0  "
      ]
     },
     "execution_count": 55,
     "metadata": {},
     "output_type": "execute_result"
    }
   ],
   "source": [
    "gpp.describe().T"
   ]
  },
  {
   "cell_type": "code",
   "execution_count": 56,
   "id": "7b7d2072",
   "metadata": {},
   "outputs": [
    {
     "data": {
      "text/plain": [
       "(66, 4)"
      ]
     },
     "execution_count": 56,
     "metadata": {},
     "output_type": "execute_result"
    }
   ],
   "source": [
    "gpp.shape"
   ]
  },
  {
   "cell_type": "code",
   "execution_count": 57,
   "id": "368f590e",
   "metadata": {},
   "outputs": [
    {
     "name": "stdout",
     "output_type": "stream",
     "text": [
      "The Dataset is from 1950 to 2015.\n"
     ]
    }
   ],
   "source": [
    "print(\"The Dataset is from {} to {}.\".format(min(gpp.Year),max(gpp.Year)))"
   ]
  },
  {
   "cell_type": "code",
   "execution_count": 58,
   "id": "b9526328",
   "metadata": {},
   "outputs": [
    {
     "data": {
      "text/plain": [
       "World    66\n",
       "Name: Entity, dtype: int64"
      ]
     },
     "execution_count": 58,
     "metadata": {},
     "output_type": "execute_result"
    }
   ],
   "source": [
    "gpp['Entity'].value_counts()\n",
    "#So, There is only one Entity"
   ]
  },
  {
   "cell_type": "code",
   "execution_count": 59,
   "id": "c491e7d0",
   "metadata": {},
   "outputs": [
    {
     "data": {
      "text/plain": [
       "OWID_WRL    66\n",
       "Name: Code, dtype: int64"
      ]
     },
     "execution_count": 59,
     "metadata": {},
     "output_type": "execute_result"
    }
   ],
   "source": [
    "gpp['Code'].value_counts() #it is a iso-code for world {no use}"
   ]
  },
  {
   "cell_type": "markdown",
   "id": "f64cd1a3",
   "metadata": {},
   "source": [
    "### Year wise Global Production of Plastic"
   ]
  },
  {
   "cell_type": "code",
   "execution_count": 61,
   "id": "838188d8",
   "metadata": {},
   "outputs": [
    {
     "data": {
      "image/png": "[encoded data removed]",
      "text/plain": [
       "<Figure size 1600x800 with 1 Axes>"
      ]
     },
     "metadata": {},
     "output_type": "display_data"
    }
   ],
   "source": [
    "plt.figure(figsize=(16,8))\n",
    "sns.barplot(x=gpp['Year'],y=gpp['Global plastics production (million tonnes)'])\n",
    "plt.title(\"Global plastics production (million tonnes) VS Years\")\n",
    "plt.xticks(rotation=90)\n",
    "plt.show()"
   ]
  },
  {
   "cell_type": "markdown",
   "id": "dc4a9434",
   "metadata": {},
   "source": [
    "- **Global Plastic Production is constantly increasing throughout these years. The World is producing four times as much plastics as four decades ago.**"
   ]
  },
  {
   "cell_type": "markdown",
   "id": "74080ea0",
   "metadata": {},
   "source": [
    "## Dataset: Mismanaged Waste Global Total"
   ]
  },
  {
   "cell_type": "code",
   "execution_count": 62,
   "id": "e59624ca",
   "metadata": {},
   "outputs": [
    {
     "data": {
      "text/html": [
       "<div>\n",
       "<style scoped>\n",
       "    .dataframe tbody tr th:only-of-type {\n",
       "        vertical-align: middle;\n",
       "    }\n",
       "\n",
       "    .dataframe tbody tr th {\n",
       "        vertical-align: top;\n",
       "    }\n",
       "\n",
       "    .dataframe thead th {\n",
       "        text-align: right;\n",
       "    }\n",
       "</style>\n",
       "<table border=\"1\" class=\"dataframe\">\n",
       "  <thead>\n",
       "    <tr style=\"text-align: right;\">\n",
       "      <th></th>\n",
       "      <th>Entity</th>\n",
       "      <th>Code</th>\n",
       "      <th>Year</th>\n",
       "      <th>Mismanaged waste (% global total)</th>\n",
       "    </tr>\n",
       "  </thead>\n",
       "  <tbody>\n",
       "    <tr>\n",
       "      <th>0</th>\n",
       "      <td>Albania</td>\n",
       "      <td>ALB</td>\n",
       "      <td>2010</td>\n",
       "      <td>0.0933</td>\n",
       "    </tr>\n",
       "    <tr>\n",
       "      <th>1</th>\n",
       "      <td>Algeria</td>\n",
       "      <td>DZA</td>\n",
       "      <td>2010</td>\n",
       "      <td>1.6347</td>\n",
       "    </tr>\n",
       "    <tr>\n",
       "      <th>2</th>\n",
       "      <td>Angola</td>\n",
       "      <td>AGO</td>\n",
       "      <td>2010</td>\n",
       "      <td>0.1964</td>\n",
       "    </tr>\n",
       "    <tr>\n",
       "      <th>3</th>\n",
       "      <td>Anguilla</td>\n",
       "      <td>AIA</td>\n",
       "      <td>2010</td>\n",
       "      <td>0.0002</td>\n",
       "    </tr>\n",
       "    <tr>\n",
       "      <th>4</th>\n",
       "      <td>Antigua and Barbuda</td>\n",
       "      <td>ATG</td>\n",
       "      <td>2010</td>\n",
       "      <td>0.0039</td>\n",
       "    </tr>\n",
       "  </tbody>\n",
       "</table>\n",
       "</div>"
      ],
      "text/plain": [
       "                Entity Code  Year  Mismanaged waste (% global total)\n",
       "0              Albania  ALB  2010                             0.0933\n",
       "1              Algeria  DZA  2010                             1.6347\n",
       "2               Angola  AGO  2010                             0.1964\n",
       "3             Anguilla  AIA  2010                             0.0002\n",
       "4  Antigua and Barbuda  ATG  2010                             0.0039"
      ]
     },
     "execution_count": 62,
     "metadata": {},
     "output_type": "execute_result"
    }
   ],
   "source": [
    "mwgt = pd.read_csv(\"mismanaged-waste-global-total.csv\")\n",
    "mwgt.head()"
   ]
  },
  {
   "cell_type": "code",
   "execution_count": 63,
   "id": "f5c94264",
   "metadata": {},
   "outputs": [
    {
     "name": "stdout",
     "output_type": "stream",
     "text": [
      "<class 'pandas.core.frame.DataFrame'>\n",
      "RangeIndex: 186 entries, 0 to 185\n",
      "Data columns (total 4 columns):\n",
      " #   Column                             Non-Null Count  Dtype  \n",
      "---  ------                             --------------  -----  \n",
      " 0   Entity                             186 non-null    object \n",
      " 1   Code                               186 non-null    object \n",
      " 2   Year                               186 non-null    int64  \n",
      " 3   Mismanaged waste (% global total)  186 non-null    float64\n",
      "dtypes: float64(1), int64(1), object(2)\n",
      "memory usage: 5.9+ KB\n"
     ]
    }
   ],
   "source": [
    "mwgt.info()\n",
    "#No missing Value"
   ]
  },
  {
   "cell_type": "code",
   "execution_count": 64,
   "id": "f412dbc7",
   "metadata": {},
   "outputs": [
    {
     "data": {
      "text/html": [
       "<div>\n",
       "<style scoped>\n",
       "    .dataframe tbody tr th:only-of-type {\n",
       "        vertical-align: middle;\n",
       "    }\n",
       "\n",
       "    .dataframe tbody tr th {\n",
       "        vertical-align: top;\n",
       "    }\n",
       "\n",
       "    .dataframe thead th {\n",
       "        text-align: right;\n",
       "    }\n",
       "</style>\n",
       "<table border=\"1\" class=\"dataframe\">\n",
       "  <thead>\n",
       "    <tr style=\"text-align: right;\">\n",
       "      <th></th>\n",
       "      <th>count</th>\n",
       "      <th>mean</th>\n",
       "      <th>std</th>\n",
       "      <th>min</th>\n",
       "      <th>25%</th>\n",
       "      <th>50%</th>\n",
       "      <th>75%</th>\n",
       "      <th>max</th>\n",
       "    </tr>\n",
       "  </thead>\n",
       "  <tbody>\n",
       "    <tr>\n",
       "      <th>Year</th>\n",
       "      <td>186.0</td>\n",
       "      <td>2010.000000</td>\n",
       "      <td>0.000000</td>\n",
       "      <td>2010.0</td>\n",
       "      <td>2010.00000</td>\n",
       "      <td>2010.0000</td>\n",
       "      <td>2010.000000</td>\n",
       "      <td>2010.0000</td>\n",
       "    </tr>\n",
       "    <tr>\n",
       "      <th>Mismanaged waste (% global total)</th>\n",
       "      <td>186.0</td>\n",
       "      <td>0.537634</td>\n",
       "      <td>2.298779</td>\n",
       "      <td>0.0</td>\n",
       "      <td>0.00685</td>\n",
       "      <td>0.0502</td>\n",
       "      <td>0.208175</td>\n",
       "      <td>27.6966</td>\n",
       "    </tr>\n",
       "  </tbody>\n",
       "</table>\n",
       "</div>"
      ],
      "text/plain": [
       "                                   count         mean       std     min  \\\n",
       "Year                               186.0  2010.000000  0.000000  2010.0   \n",
       "Mismanaged waste (% global total)  186.0     0.537634  2.298779     0.0   \n",
       "\n",
       "                                          25%        50%          75%  \\\n",
       "Year                               2010.00000  2010.0000  2010.000000   \n",
       "Mismanaged waste (% global total)     0.00685     0.0502     0.208175   \n",
       "\n",
       "                                         max  \n",
       "Year                               2010.0000  \n",
       "Mismanaged waste (% global total)    27.6966  "
      ]
     },
     "execution_count": 64,
     "metadata": {},
     "output_type": "execute_result"
    }
   ],
   "source": [
    "mwgt.describe().T"
   ]
  },
  {
   "cell_type": "code",
   "execution_count": 65,
   "id": "06c68314",
   "metadata": {},
   "outputs": [
    {
     "data": {
      "text/plain": [
       "186"
      ]
     },
     "execution_count": 65,
     "metadata": {},
     "output_type": "execute_result"
    }
   ],
   "source": [
    "len(mwgt['Entity'].unique())\n",
    "#Every Country is mentioned only once."
   ]
  },
  {
   "cell_type": "code",
   "execution_count": 66,
   "id": "7b9032fe",
   "metadata": {},
   "outputs": [
    {
     "data": {
      "text/plain": [
       "2010    186\n",
       "Name: Year, dtype: int64"
      ]
     },
     "execution_count": 66,
     "metadata": {},
     "output_type": "execute_result"
    }
   ],
   "source": [
    "mwgt['Year'].value_counts()\n",
    "#And we have only 2010 year data."
   ]
  },
  {
   "cell_type": "code",
   "execution_count": 67,
   "id": "2f9d394b",
   "metadata": {},
   "outputs": [
    {
     "name": "stdout",
     "output_type": "stream",
     "text": [
      "100\n"
     ]
    }
   ],
   "source": [
    "sum = 0\n",
    "for i in mwgt['Mismanaged waste (% global total)']:\n",
    "    sum += i\n",
    "print(round(sum))"
   ]
  },
  {
   "cell_type": "markdown",
   "id": "44da45af",
   "metadata": {},
   "source": [
    "### Which Country Mismanaged Waste Maximum and Minimum in 2010 Year?"
   ]
  },
  {
   "cell_type": "code",
   "execution_count": 68,
   "id": "b963f1d0",
   "metadata": {},
   "outputs": [
    {
     "data": {
      "text/html": [
       "<div>\n",
       "<style scoped>\n",
       "    .dataframe tbody tr th:only-of-type {\n",
       "        vertical-align: middle;\n",
       "    }\n",
       "\n",
       "    .dataframe tbody tr th {\n",
       "        vertical-align: top;\n",
       "    }\n",
       "\n",
       "    .dataframe thead th {\n",
       "        text-align: right;\n",
       "    }\n",
       "</style>\n",
       "<table border=\"1\" class=\"dataframe\">\n",
       "  <thead>\n",
       "    <tr style=\"text-align: right;\">\n",
       "      <th></th>\n",
       "      <th>Entity</th>\n",
       "      <th>Code</th>\n",
       "      <th>Year</th>\n",
       "      <th>Mismanaged waste (% global total)</th>\n",
       "    </tr>\n",
       "  </thead>\n",
       "  <tbody>\n",
       "    <tr>\n",
       "      <th>28</th>\n",
       "      <td>China</td>\n",
       "      <td>CHN</td>\n",
       "      <td>2010</td>\n",
       "      <td>27.6966</td>\n",
       "    </tr>\n",
       "  </tbody>\n",
       "</table>\n",
       "</div>"
      ],
      "text/plain": [
       "   Entity Code  Year  Mismanaged waste (% global total)\n",
       "28  China  CHN  2010                            27.6966"
      ]
     },
     "execution_count": 68,
     "metadata": {},
     "output_type": "execute_result"
    }
   ],
   "source": [
    "mwgt[mwgt['Mismanaged waste (% global total)'] == max(mwgt['Mismanaged waste (% global total)'])]\n",
    "#So, Maximum Mismanaged is done by China in 2010."
   ]
  },
  {
   "cell_type": "code",
   "execution_count": 69,
   "id": "79e0f149",
   "metadata": {},
   "outputs": [
    {
     "data": {
      "text/html": [
       "<div>\n",
       "<style scoped>\n",
       "    .dataframe tbody tr th:only-of-type {\n",
       "        vertical-align: middle;\n",
       "    }\n",
       "\n",
       "    .dataframe tbody tr th {\n",
       "        vertical-align: top;\n",
       "    }\n",
       "\n",
       "    .dataframe thead th {\n",
       "        text-align: right;\n",
       "    }\n",
       "</style>\n",
       "<table border=\"1\" class=\"dataframe\">\n",
       "  <thead>\n",
       "    <tr style=\"text-align: right;\">\n",
       "      <th></th>\n",
       "      <th>Entity</th>\n",
       "      <th>Code</th>\n",
       "      <th>Year</th>\n",
       "      <th>Mismanaged waste (% global total)</th>\n",
       "    </tr>\n",
       "  </thead>\n",
       "  <tbody>\n",
       "    <tr>\n",
       "      <th>29</th>\n",
       "      <td>Christmas Island</td>\n",
       "      <td>CXR</td>\n",
       "      <td>2010</td>\n",
       "      <td>0.0</td>\n",
       "    </tr>\n",
       "    <tr>\n",
       "      <th>30</th>\n",
       "      <td>Cocos Islands</td>\n",
       "      <td>CCK</td>\n",
       "      <td>2010</td>\n",
       "      <td>0.0</td>\n",
       "    </tr>\n",
       "    <tr>\n",
       "      <th>53</th>\n",
       "      <td>Falkland Islands</td>\n",
       "      <td>FLK</td>\n",
       "      <td>2010</td>\n",
       "      <td>0.0</td>\n",
       "    </tr>\n",
       "    <tr>\n",
       "      <th>122</th>\n",
       "      <td>Niue</td>\n",
       "      <td>NIU</td>\n",
       "      <td>2010</td>\n",
       "      <td>0.0</td>\n",
       "    </tr>\n",
       "    <tr>\n",
       "      <th>145</th>\n",
       "      <td>Saint Pierre and Miquelon</td>\n",
       "      <td>SPM</td>\n",
       "      <td>2010</td>\n",
       "      <td>0.0</td>\n",
       "    </tr>\n",
       "  </tbody>\n",
       "</table>\n",
       "</div>"
      ],
      "text/plain": [
       "                        Entity Code  Year  Mismanaged waste (% global total)\n",
       "29            Christmas Island  CXR  2010                                0.0\n",
       "30               Cocos Islands  CCK  2010                                0.0\n",
       "53            Falkland Islands  FLK  2010                                0.0\n",
       "122                       Niue  NIU  2010                                0.0\n",
       "145  Saint Pierre and Miquelon  SPM  2010                                0.0"
      ]
     },
     "execution_count": 69,
     "metadata": {},
     "output_type": "execute_result"
    }
   ],
   "source": [
    "mwgt[mwgt['Mismanaged waste (% global total)'] == min(mwgt['Mismanaged waste (% global total)'])]\n",
    "# We have 5 Country which nearly not mismanaged any waste in 2010."
   ]
  },
  {
   "cell_type": "markdown",
   "id": "08bd6adc",
   "metadata": {},
   "source": [
    "### What is Percentage of Mismanaged Waste by INDIA in 2010?"
   ]
  },
  {
   "cell_type": "code",
   "execution_count": 70,
   "id": "055537f1",
   "metadata": {},
   "outputs": [
    {
     "data": {
      "text/html": [
       "<div>\n",
       "<style scoped>\n",
       "    .dataframe tbody tr th:only-of-type {\n",
       "        vertical-align: middle;\n",
       "    }\n",
       "\n",
       "    .dataframe tbody tr th {\n",
       "        vertical-align: top;\n",
       "    }\n",
       "\n",
       "    .dataframe thead th {\n",
       "        text-align: right;\n",
       "    }\n",
       "</style>\n",
       "<table border=\"1\" class=\"dataframe\">\n",
       "  <thead>\n",
       "    <tr style=\"text-align: right;\">\n",
       "      <th></th>\n",
       "      <th>Entity</th>\n",
       "      <th>Code</th>\n",
       "      <th>Year</th>\n",
       "      <th>Mismanaged waste (% global total)</th>\n",
       "    </tr>\n",
       "  </thead>\n",
       "  <tbody>\n",
       "    <tr>\n",
       "      <th>79</th>\n",
       "      <td>India</td>\n",
       "      <td>IND</td>\n",
       "      <td>2010</td>\n",
       "      <td>1.8836</td>\n",
       "    </tr>\n",
       "  </tbody>\n",
       "</table>\n",
       "</div>"
      ],
      "text/plain": [
       "   Entity Code  Year  Mismanaged waste (% global total)\n",
       "79  India  IND  2010                             1.8836"
      ]
     },
     "execution_count": 70,
     "metadata": {},
     "output_type": "execute_result"
    }
   ],
   "source": [
    "mwgt[mwgt[\"Entity\"] == \"India\"]\n",
    "# it is 1.9 approx."
   ]
  },
  {
   "cell_type": "markdown",
   "id": "e71c180e",
   "metadata": {},
   "source": [
    "### What is Percentage of Mismanaged Waste by USA in 2010?"
   ]
  },
  {
   "cell_type": "code",
   "execution_count": 71,
   "id": "187aeffc",
   "metadata": {},
   "outputs": [
    {
     "data": {
      "text/html": [
       "<div>\n",
       "<style scoped>\n",
       "    .dataframe tbody tr th:only-of-type {\n",
       "        vertical-align: middle;\n",
       "    }\n",
       "\n",
       "    .dataframe tbody tr th {\n",
       "        vertical-align: top;\n",
       "    }\n",
       "\n",
       "    .dataframe thead th {\n",
       "        text-align: right;\n",
       "    }\n",
       "</style>\n",
       "<table border=\"1\" class=\"dataframe\">\n",
       "  <thead>\n",
       "    <tr style=\"text-align: right;\">\n",
       "      <th></th>\n",
       "      <th>Entity</th>\n",
       "      <th>Code</th>\n",
       "      <th>Year</th>\n",
       "      <th>Mismanaged waste (% global total)</th>\n",
       "    </tr>\n",
       "  </thead>\n",
       "  <tbody>\n",
       "    <tr>\n",
       "      <th>180</th>\n",
       "      <td>United States</td>\n",
       "      <td>USA</td>\n",
       "      <td>2010</td>\n",
       "      <td>0.8649</td>\n",
       "    </tr>\n",
       "  </tbody>\n",
       "</table>\n",
       "</div>"
      ],
      "text/plain": [
       "            Entity Code  Year  Mismanaged waste (% global total)\n",
       "180  United States  USA  2010                             0.8649"
      ]
     },
     "execution_count": 71,
     "metadata": {},
     "output_type": "execute_result"
    }
   ],
   "source": [
    "mwgt[mwgt[\"Code\"] == \"USA\"]\n",
    "# it is 0.9 approx."
   ]
  },
  {
   "cell_type": "code",
   "execution_count": 72,
   "id": "2278c679",
   "metadata": {},
   "outputs": [
    {
     "data": {
      "text/html": [
       "<div>\n",
       "<style scoped>\n",
       "    .dataframe tbody tr th:only-of-type {\n",
       "        vertical-align: middle;\n",
       "    }\n",
       "\n",
       "    .dataframe tbody tr th {\n",
       "        vertical-align: top;\n",
       "    }\n",
       "\n",
       "    .dataframe thead th {\n",
       "        text-align: right;\n",
       "    }\n",
       "</style>\n",
       "<table border=\"1\" class=\"dataframe\">\n",
       "  <thead>\n",
       "    <tr style=\"text-align: right;\">\n",
       "      <th></th>\n",
       "      <th>pop_est</th>\n",
       "      <th>continent</th>\n",
       "      <th>name</th>\n",
       "      <th>iso_a3</th>\n",
       "      <th>gdp_md_est</th>\n",
       "      <th>geometry</th>\n",
       "    </tr>\n",
       "  </thead>\n",
       "  <tbody>\n",
       "    <tr>\n",
       "      <th>0</th>\n",
       "      <td>889953.0</td>\n",
       "      <td>Oceania</td>\n",
       "      <td>Fiji</td>\n",
       "      <td>FJI</td>\n",
       "      <td>5496</td>\n",
       "      <td>MULTIPOLYGON (((180.00000 -16.06713, 180.00000...</td>\n",
       "    </tr>\n",
       "    <tr>\n",
       "      <th>1</th>\n",
       "      <td>58005463.0</td>\n",
       "      <td>Africa</td>\n",
       "      <td>Tanzania</td>\n",
       "      <td>TZA</td>\n",
       "      <td>63177</td>\n",
       "      <td>POLYGON ((33.90371 -0.95000, 34.07262 -1.05982...</td>\n",
       "    </tr>\n",
       "    <tr>\n",
       "      <th>2</th>\n",
       "      <td>603253.0</td>\n",
       "      <td>Africa</td>\n",
       "      <td>W. Sahara</td>\n",
       "      <td>ESH</td>\n",
       "      <td>907</td>\n",
       "      <td>POLYGON ((-8.66559 27.65643, -8.66512 27.58948...</td>\n",
       "    </tr>\n",
       "    <tr>\n",
       "      <th>3</th>\n",
       "      <td>37589262.0</td>\n",
       "      <td>North America</td>\n",
       "      <td>Canada</td>\n",
       "      <td>CAN</td>\n",
       "      <td>1736425</td>\n",
       "      <td>MULTIPOLYGON (((-122.84000 49.00000, -122.9742...</td>\n",
       "    </tr>\n",
       "    <tr>\n",
       "      <th>4</th>\n",
       "      <td>328239523.0</td>\n",
       "      <td>North America</td>\n",
       "      <td>United States of America</td>\n",
       "      <td>USA</td>\n",
       "      <td>21433226</td>\n",
       "      <td>MULTIPOLYGON (((-122.84000 49.00000, -120.0000...</td>\n",
       "    </tr>\n",
       "  </tbody>\n",
       "</table>\n",
       "</div>"
      ],
      "text/plain": [
       "       pop_est      continent                      name iso_a3  gdp_md_est  \\\n",
       "0     889953.0        Oceania                      Fiji    FJI        5496   \n",
       "1   58005463.0         Africa                  Tanzania    TZA       63177   \n",
       "2     603253.0         Africa                 W. Sahara    ESH         907   \n",
       "3   37589262.0  North America                    Canada    CAN     1736425   \n",
       "4  328239523.0  North America  United States of America    USA    21433226   \n",
       "\n",
       "                                            geometry  \n",
       "0  MULTIPOLYGON (((180.00000 -16.06713, 180.00000...  \n",
       "1  POLYGON ((33.90371 -0.95000, 34.07262 -1.05982...  \n",
       "2  POLYGON ((-8.66559 27.65643, -8.66512 27.58948...  \n",
       "3  MULTIPOLYGON (((-122.84000 49.00000, -122.9742...  \n",
       "4  MULTIPOLYGON (((-122.84000 49.00000, -120.0000...  "
      ]
     },
     "execution_count": 72,
     "metadata": {},
     "output_type": "execute_result"
    }
   ],
   "source": [
    "#Geopandas Installation Problem Solution: https://geoffboeing.com/2014/09/using-geopandas-windows/\n",
    "\n",
    "#first let us merge geopandas data with our data\n",
    "#'naturalearth_lowres' is geopandas datasets so we can use it directly\n",
    "world = gpd.read_file(gpd.datasets.get_path('naturalearth_lowres'))\n",
    "\n",
    "world.head()"
   ]
  },
  {
   "cell_type": "code",
   "execution_count": 73,
   "id": "890441fb",
   "metadata": {},
   "outputs": [
    {
     "data": {
      "text/html": [
       "<div>\n",
       "<style scoped>\n",
       "    .dataframe tbody tr th:only-of-type {\n",
       "        vertical-align: middle;\n",
       "    }\n",
       "\n",
       "    .dataframe tbody tr th {\n",
       "        vertical-align: top;\n",
       "    }\n",
       "\n",
       "    .dataframe thead th {\n",
       "        text-align: right;\n",
       "    }\n",
       "</style>\n",
       "<table border=\"1\" class=\"dataframe\">\n",
       "  <thead>\n",
       "    <tr style=\"text-align: right;\">\n",
       "      <th></th>\n",
       "      <th>pop_est</th>\n",
       "      <th>Continent</th>\n",
       "      <th>Entity</th>\n",
       "      <th>Code</th>\n",
       "      <th>gdp_md_est</th>\n",
       "      <th>geometry</th>\n",
       "    </tr>\n",
       "  </thead>\n",
       "  <tbody>\n",
       "    <tr>\n",
       "      <th>0</th>\n",
       "      <td>889953.0</td>\n",
       "      <td>Oceania</td>\n",
       "      <td>Fiji</td>\n",
       "      <td>FJI</td>\n",
       "      <td>5496</td>\n",
       "      <td>MULTIPOLYGON (((180.00000 -16.06713, 180.00000...</td>\n",
       "    </tr>\n",
       "    <tr>\n",
       "      <th>1</th>\n",
       "      <td>58005463.0</td>\n",
       "      <td>Africa</td>\n",
       "      <td>Tanzania</td>\n",
       "      <td>TZA</td>\n",
       "      <td>63177</td>\n",
       "      <td>POLYGON ((33.90371 -0.95000, 34.07262 -1.05982...</td>\n",
       "    </tr>\n",
       "    <tr>\n",
       "      <th>2</th>\n",
       "      <td>603253.0</td>\n",
       "      <td>Africa</td>\n",
       "      <td>W. Sahara</td>\n",
       "      <td>ESH</td>\n",
       "      <td>907</td>\n",
       "      <td>POLYGON ((-8.66559 27.65643, -8.66512 27.58948...</td>\n",
       "    </tr>\n",
       "    <tr>\n",
       "      <th>3</th>\n",
       "      <td>37589262.0</td>\n",
       "      <td>North America</td>\n",
       "      <td>Canada</td>\n",
       "      <td>CAN</td>\n",
       "      <td>1736425</td>\n",
       "      <td>MULTIPOLYGON (((-122.84000 49.00000, -122.9742...</td>\n",
       "    </tr>\n",
       "    <tr>\n",
       "      <th>4</th>\n",
       "      <td>328239523.0</td>\n",
       "      <td>North America</td>\n",
       "      <td>United States of America</td>\n",
       "      <td>USA</td>\n",
       "      <td>21433226</td>\n",
       "      <td>MULTIPOLYGON (((-122.84000 49.00000, -120.0000...</td>\n",
       "    </tr>\n",
       "  </tbody>\n",
       "</table>\n",
       "</div>"
      ],
      "text/plain": [
       "       pop_est      Continent                    Entity Code  gdp_md_est  \\\n",
       "0     889953.0        Oceania                      Fiji  FJI        5496   \n",
       "1   58005463.0         Africa                  Tanzania  TZA       63177   \n",
       "2     603253.0         Africa                 W. Sahara  ESH         907   \n",
       "3   37589262.0  North America                    Canada  CAN     1736425   \n",
       "4  328239523.0  North America  United States of America  USA    21433226   \n",
       "\n",
       "                                            geometry  \n",
       "0  MULTIPOLYGON (((180.00000 -16.06713, 180.00000...  \n",
       "1  POLYGON ((33.90371 -0.95000, 34.07262 -1.05982...  \n",
       "2  POLYGON ((-8.66559 27.65643, -8.66512 27.58948...  \n",
       "3  MULTIPOLYGON (((-122.84000 49.00000, -122.9742...  \n",
       "4  MULTIPOLYGON (((-122.84000 49.00000, -120.0000...  "
      ]
     },
     "execution_count": 73,
     "metadata": {},
     "output_type": "execute_result"
    }
   ],
   "source": [
    "## rename the columns so that we can merge with our data\n",
    "world.columns=['pop_est', 'Continent', 'Entity', 'Code', 'gdp_md_est', 'geometry']\n",
    "world.head()"
   ]
  },
  {
   "cell_type": "code",
   "execution_count": 74,
   "id": "4f64dc23",
   "metadata": {},
   "outputs": [
    {
     "data": {
      "image/png": "[encoded data removed]",
      "text/plain": [
       "<Figure size 1200x1000 with 1 Axes>"
      ]
     },
     "metadata": {},
     "output_type": "display_data"
    }
   ],
   "source": [
    "# last thing we need to do is - merge \n",
    "merge=pd.merge(world, mwgt,on='Code')\n",
    "merge.plot(column=\"Mismanaged waste (% global total)\", scheme=\"quantiles\", legend=True, figsize=(12, 10),cmap='coolwarm');"
   ]
  },
  {
   "cell_type": "markdown",
   "id": "3707c1f4",
   "metadata": {},
   "source": [
    "- **So, we can conclude from the above figure, that dataset has many missing countries.**\n",
    "- **Here, the country which mismanaged their waste more than 0.5 are marked red.**"
   ]
  },
  {
   "cell_type": "markdown",
   "id": "00037080",
   "metadata": {},
   "source": [
    "## Dataset: Per Capita Mismanaged Plastic Waste VS GDP Per Capita"
   ]
  },
  {
   "cell_type": "code",
   "execution_count": 75,
   "id": "7a19dd3d",
   "metadata": {},
   "outputs": [
    {
     "data": {
      "text/html": [
       "<div>\n",
       "<style scoped>\n",
       "    .dataframe tbody tr th:only-of-type {\n",
       "        vertical-align: middle;\n",
       "    }\n",
       "\n",
       "    .dataframe tbody tr th {\n",
       "        vertical-align: top;\n",
       "    }\n",
       "\n",
       "    .dataframe thead th {\n",
       "        text-align: right;\n",
       "    }\n",
       "</style>\n",
       "<table border=\"1\" class=\"dataframe\">\n",
       "  <thead>\n",
       "    <tr style=\"text-align: right;\">\n",
       "      <th></th>\n",
       "      <th>Entity</th>\n",
       "      <th>Code</th>\n",
       "      <th>Year</th>\n",
       "      <th>Per capita mismanaged plastic waste</th>\n",
       "      <th>GDP per capita, PPP (constant 2011 international $)</th>\n",
       "      <th>Total population (Gapminder, HYDE &amp; UN)</th>\n",
       "      <th>Continent</th>\n",
       "    </tr>\n",
       "  </thead>\n",
       "  <tbody>\n",
       "    <tr>\n",
       "      <th>0</th>\n",
       "      <td>Abkhazia</td>\n",
       "      <td>OWID_ABK</td>\n",
       "      <td>2015</td>\n",
       "      <td>NaN</td>\n",
       "      <td>NaN</td>\n",
       "      <td>NaN</td>\n",
       "      <td>Asia</td>\n",
       "    </tr>\n",
       "    <tr>\n",
       "      <th>1</th>\n",
       "      <td>Afghanistan</td>\n",
       "      <td>AFG</td>\n",
       "      <td>2002</td>\n",
       "      <td>NaN</td>\n",
       "      <td>1063.635574</td>\n",
       "      <td>22601000.0</td>\n",
       "      <td>NaN</td>\n",
       "    </tr>\n",
       "    <tr>\n",
       "      <th>2</th>\n",
       "      <td>Afghanistan</td>\n",
       "      <td>AFG</td>\n",
       "      <td>2003</td>\n",
       "      <td>NaN</td>\n",
       "      <td>1099.194507</td>\n",
       "      <td>23681000.0</td>\n",
       "      <td>NaN</td>\n",
       "    </tr>\n",
       "    <tr>\n",
       "      <th>3</th>\n",
       "      <td>Afghanistan</td>\n",
       "      <td>AFG</td>\n",
       "      <td>2004</td>\n",
       "      <td>NaN</td>\n",
       "      <td>1062.249360</td>\n",
       "      <td>24727000.0</td>\n",
       "      <td>NaN</td>\n",
       "    </tr>\n",
       "    <tr>\n",
       "      <th>4</th>\n",
       "      <td>Afghanistan</td>\n",
       "      <td>AFG</td>\n",
       "      <td>2005</td>\n",
       "      <td>NaN</td>\n",
       "      <td>1136.123214</td>\n",
       "      <td>25654000.0</td>\n",
       "      <td>NaN</td>\n",
       "    </tr>\n",
       "  </tbody>\n",
       "</table>\n",
       "</div>"
      ],
      "text/plain": [
       "        Entity      Code  Year  Per capita mismanaged plastic waste  \\\n",
       "0     Abkhazia  OWID_ABK  2015                                  NaN   \n",
       "1  Afghanistan       AFG  2002                                  NaN   \n",
       "2  Afghanistan       AFG  2003                                  NaN   \n",
       "3  Afghanistan       AFG  2004                                  NaN   \n",
       "4  Afghanistan       AFG  2005                                  NaN   \n",
       "\n",
       "   GDP per capita, PPP (constant 2011 international $)  \\\n",
       "0                                                NaN     \n",
       "1                                        1063.635574     \n",
       "2                                        1099.194507     \n",
       "3                                        1062.249360     \n",
       "4                                        1136.123214     \n",
       "\n",
       "   Total population (Gapminder, HYDE & UN) Continent  \n",
       "0                                      NaN      Asia  \n",
       "1                               22601000.0       NaN  \n",
       "2                               23681000.0       NaN  \n",
       "3                               24727000.0       NaN  \n",
       "4                               25654000.0       NaN  "
      ]
     },
     "execution_count": 75,
     "metadata": {},
     "output_type": "execute_result"
    }
   ],
   "source": [
    "mpw_gdp = pd.read_csv(\"per-capita-mismanaged-plastic-waste-vs-gdp-per-capita.csv\")\n",
    "mpw_gdp.head()"
   ]
  },
  {
   "cell_type": "code",
   "execution_count": 76,
   "id": "9bc1b9d4",
   "metadata": {},
   "outputs": [
    {
     "name": "stdout",
     "output_type": "stream",
     "text": [
      "<class 'pandas.core.frame.DataFrame'>\n",
      "RangeIndex: 48168 entries, 0 to 48167\n",
      "Data columns (total 7 columns):\n",
      " #   Column                                               Non-Null Count  Dtype  \n",
      "---  ------                                               --------------  -----  \n",
      " 0   Entity                                               48168 non-null  object \n",
      " 1   Code                                                 46154 non-null  object \n",
      " 2   Year                                                 48168 non-null  int64  \n",
      " 3   Per capita mismanaged plastic waste                  186 non-null    float64\n",
      " 4   GDP per capita, PPP (constant 2011 international $)  6407 non-null   float64\n",
      " 5   Total population (Gapminder, HYDE & UN)              46883 non-null  float64\n",
      " 6   Continent                                            285 non-null    object \n",
      "dtypes: float64(3), int64(1), object(3)\n",
      "memory usage: 2.6+ MB\n"
     ]
    }
   ],
   "source": [
    "mpw_gdp.info()"
   ]
  },
  {
   "cell_type": "code",
   "execution_count": 77,
   "id": "d314a42c",
   "metadata": {},
   "outputs": [
    {
     "data": {
      "text/plain": [
       "Entity                                                     0\n",
       "Code                                                    2014\n",
       "Year                                                       0\n",
       "Per capita mismanaged plastic waste                    47982\n",
       "GDP per capita, PPP (constant 2011 international $)    41761\n",
       "Total population (Gapminder, HYDE & UN)                 1285\n",
       "Continent                                              47883\n",
       "dtype: int64"
      ]
     },
     "execution_count": 77,
     "metadata": {},
     "output_type": "execute_result"
    }
   ],
   "source": [
    "mpw_gdp.isnull().sum()\n",
    "#The dataset contains soo many null values. It is best to drop all the Null values."
   ]
  },
  {
   "cell_type": "code",
   "execution_count": 78,
   "id": "bdfd0dcb",
   "metadata": {},
   "outputs": [
    {
     "data": {
      "text/plain": [
       "(48168, 7)"
      ]
     },
     "execution_count": 78,
     "metadata": {},
     "output_type": "execute_result"
    }
   ],
   "source": [
    "mpw_gdp.shape"
   ]
  },
  {
   "cell_type": "code",
   "execution_count": 79,
   "id": "2c85f82d",
   "metadata": {},
   "outputs": [
    {
     "data": {
      "text/html": [
       "<div>\n",
       "<style scoped>\n",
       "    .dataframe tbody tr th:only-of-type {\n",
       "        vertical-align: middle;\n",
       "    }\n",
       "\n",
       "    .dataframe tbody tr th {\n",
       "        vertical-align: top;\n",
       "    }\n",
       "\n",
       "    .dataframe thead th {\n",
       "        text-align: right;\n",
       "    }\n",
       "</style>\n",
       "<table border=\"1\" class=\"dataframe\">\n",
       "  <thead>\n",
       "    <tr style=\"text-align: right;\">\n",
       "      <th></th>\n",
       "      <th>count</th>\n",
       "      <th>mean</th>\n",
       "      <th>std</th>\n",
       "      <th>min</th>\n",
       "      <th>25%</th>\n",
       "      <th>50%</th>\n",
       "      <th>75%</th>\n",
       "      <th>max</th>\n",
       "    </tr>\n",
       "  </thead>\n",
       "  <tbody>\n",
       "    <tr>\n",
       "      <th>Year</th>\n",
       "      <td>48168.0</td>\n",
       "      <td>1.903147e+03</td>\n",
       "      <td>3.157168e+02</td>\n",
       "      <td>-10000.00000</td>\n",
       "      <td>1859.000000</td>\n",
       "      <td>1.920000e+03</td>\n",
       "      <td>1.975000e+03</td>\n",
       "      <td>2.019000e+03</td>\n",
       "    </tr>\n",
       "    <tr>\n",
       "      <th>Per capita mismanaged plastic waste</th>\n",
       "      <td>186.0</td>\n",
       "      <td>4.522581e-02</td>\n",
       "      <td>5.007705e-02</td>\n",
       "      <td>0.00100</td>\n",
       "      <td>0.006000</td>\n",
       "      <td>3.200000e-02</td>\n",
       "      <td>6.600000e-02</td>\n",
       "      <td>2.990000e-01</td>\n",
       "    </tr>\n",
       "    <tr>\n",
       "      <th>GDP per capita, PPP (constant 2011 international $)</th>\n",
       "      <td>6407.0</td>\n",
       "      <td>1.492610e+04</td>\n",
       "      <td>1.773975e+04</td>\n",
       "      <td>247.43654</td>\n",
       "      <td>3021.071807</td>\n",
       "      <td>8.447264e+03</td>\n",
       "      <td>1.960754e+04</td>\n",
       "      <td>1.353188e+05</td>\n",
       "    </tr>\n",
       "    <tr>\n",
       "      <th>Total population (Gapminder, HYDE &amp; UN)</th>\n",
       "      <td>46883.0</td>\n",
       "      <td>2.982790e+07</td>\n",
       "      <td>2.530860e+08</td>\n",
       "      <td>905.00000</td>\n",
       "      <td>201733.500000</td>\n",
       "      <td>1.542937e+06</td>\n",
       "      <td>5.886795e+06</td>\n",
       "      <td>7.713468e+09</td>\n",
       "    </tr>\n",
       "  </tbody>\n",
       "</table>\n",
       "</div>"
      ],
      "text/plain": [
       "                                                      count          mean  \\\n",
       "Year                                                48168.0  1.903147e+03   \n",
       "Per capita mismanaged plastic waste                   186.0  4.522581e-02   \n",
       "GDP per capita, PPP (constant 2011 internationa...   6407.0  1.492610e+04   \n",
       "Total population (Gapminder, HYDE & UN)             46883.0  2.982790e+07   \n",
       "\n",
       "                                                             std          min  \\\n",
       "Year                                                3.157168e+02 -10000.00000   \n",
       "Per capita mismanaged plastic waste                 5.007705e-02      0.00100   \n",
       "GDP per capita, PPP (constant 2011 internationa...  1.773975e+04    247.43654   \n",
       "Total population (Gapminder, HYDE & UN)             2.530860e+08    905.00000   \n",
       "\n",
       "                                                              25%  \\\n",
       "Year                                                  1859.000000   \n",
       "Per capita mismanaged plastic waste                      0.006000   \n",
       "GDP per capita, PPP (constant 2011 internationa...    3021.071807   \n",
       "Total population (Gapminder, HYDE & UN)             201733.500000   \n",
       "\n",
       "                                                             50%  \\\n",
       "Year                                                1.920000e+03   \n",
       "Per capita mismanaged plastic waste                 3.200000e-02   \n",
       "GDP per capita, PPP (constant 2011 internationa...  8.447264e+03   \n",
       "Total population (Gapminder, HYDE & UN)             1.542937e+06   \n",
       "\n",
       "                                                             75%           max  \n",
       "Year                                                1.975000e+03  2.019000e+03  \n",
       "Per capita mismanaged plastic waste                 6.600000e-02  2.990000e-01  \n",
       "GDP per capita, PPP (constant 2011 internationa...  1.960754e+04  1.353188e+05  \n",
       "Total population (Gapminder, HYDE & UN)             5.886795e+06  7.713468e+09  "
      ]
     },
     "execution_count": 79,
     "metadata": {},
     "output_type": "execute_result"
    }
   ],
   "source": [
    "mpw_gdp.describe().T"
   ]
  },
  {
   "cell_type": "code",
   "execution_count": 80,
   "id": "9a9aa37f",
   "metadata": {},
   "outputs": [
    {
     "data": {
      "text/plain": [
       "-10000"
      ]
     },
     "execution_count": 80,
     "metadata": {},
     "output_type": "execute_result"
    }
   ],
   "source": [
    "min(mpw_gdp['Year']) #The dataset contains some negative years also, which needed to remove."
   ]
  },
  {
   "cell_type": "code",
   "execution_count": 81,
   "id": "a3d0b9ec",
   "metadata": {},
   "outputs": [
    {
     "data": {
      "text/plain": [
       "Europe           75\n",
       "Asia             62\n",
       "Africa           61\n",
       "North America    42\n",
       "Oceania          26\n",
       "South America    15\n",
       "Antarctica        4\n",
       "Name: Continent, dtype: int64"
      ]
     },
     "execution_count": 81,
     "metadata": {},
     "output_type": "execute_result"
    }
   ],
   "source": [
    "mpw_gdp['Continent'].value_counts()#So, the dataset has all seven continents."
   ]
  },
  {
   "cell_type": "code",
   "execution_count": 82,
   "id": "18813855",
   "metadata": {},
   "outputs": [],
   "source": [
    "# mpw_gdp.dropna(inplace=True)\n",
    "#We can't drop like this because after removing null values from the dataset we will have no data."
   ]
  },
  {
   "cell_type": "code",
   "execution_count": 83,
   "id": "fe8deb14",
   "metadata": {},
   "outputs": [
    {
     "data": {
      "text/html": [
       "<div>\n",
       "<style scoped>\n",
       "    .dataframe tbody tr th:only-of-type {\n",
       "        vertical-align: middle;\n",
       "    }\n",
       "\n",
       "    .dataframe tbody tr th {\n",
       "        vertical-align: top;\n",
       "    }\n",
       "\n",
       "    .dataframe thead th {\n",
       "        text-align: right;\n",
       "    }\n",
       "</style>\n",
       "<table border=\"1\" class=\"dataframe\">\n",
       "  <thead>\n",
       "    <tr style=\"text-align: right;\">\n",
       "      <th></th>\n",
       "      <th>Entity</th>\n",
       "      <th>Code</th>\n",
       "      <th>Year</th>\n",
       "      <th>Per capita mismanaged plastic waste</th>\n",
       "      <th>GDP per capita, PPP (constant 2011 international $)</th>\n",
       "      <th>Total population (Gapminder, HYDE &amp; UN)</th>\n",
       "      <th>Continent</th>\n",
       "    </tr>\n",
       "  </thead>\n",
       "  <tbody>\n",
       "    <tr>\n",
       "      <th>221</th>\n",
       "      <td>Africa</td>\n",
       "      <td>NaN</td>\n",
       "      <td>-10000</td>\n",
       "      <td>NaN</td>\n",
       "      <td>NaN</td>\n",
       "      <td>241901.0</td>\n",
       "      <td>NaN</td>\n",
       "    </tr>\n",
       "    <tr>\n",
       "      <th>222</th>\n",
       "      <td>Africa</td>\n",
       "      <td>NaN</td>\n",
       "      <td>-9000</td>\n",
       "      <td>NaN</td>\n",
       "      <td>NaN</td>\n",
       "      <td>342782.0</td>\n",
       "      <td>NaN</td>\n",
       "    </tr>\n",
       "    <tr>\n",
       "      <th>223</th>\n",
       "      <td>Africa</td>\n",
       "      <td>NaN</td>\n",
       "      <td>-8000</td>\n",
       "      <td>NaN</td>\n",
       "      <td>NaN</td>\n",
       "      <td>490284.0</td>\n",
       "      <td>NaN</td>\n",
       "    </tr>\n",
       "    <tr>\n",
       "      <th>224</th>\n",
       "      <td>Africa</td>\n",
       "      <td>NaN</td>\n",
       "      <td>-7000</td>\n",
       "      <td>NaN</td>\n",
       "      <td>NaN</td>\n",
       "      <td>707844.0</td>\n",
       "      <td>NaN</td>\n",
       "    </tr>\n",
       "    <tr>\n",
       "      <th>225</th>\n",
       "      <td>Africa</td>\n",
       "      <td>NaN</td>\n",
       "      <td>-6000</td>\n",
       "      <td>NaN</td>\n",
       "      <td>NaN</td>\n",
       "      <td>1031529.0</td>\n",
       "      <td>NaN</td>\n",
       "    </tr>\n",
       "    <tr>\n",
       "      <th>...</th>\n",
       "      <td>...</td>\n",
       "      <td>...</td>\n",
       "      <td>...</td>\n",
       "      <td>...</td>\n",
       "      <td>...</td>\n",
       "      <td>...</td>\n",
       "      <td>...</td>\n",
       "    </tr>\n",
       "    <tr>\n",
       "      <th>47384</th>\n",
       "      <td>World</td>\n",
       "      <td>OWID_WRL</td>\n",
       "      <td>-5000</td>\n",
       "      <td>NaN</td>\n",
       "      <td>NaN</td>\n",
       "      <td>17920172.0</td>\n",
       "      <td>NaN</td>\n",
       "    </tr>\n",
       "    <tr>\n",
       "      <th>47385</th>\n",
       "      <td>World</td>\n",
       "      <td>OWID_WRL</td>\n",
       "      <td>-4000</td>\n",
       "      <td>NaN</td>\n",
       "      <td>NaN</td>\n",
       "      <td>28370428.0</td>\n",
       "      <td>NaN</td>\n",
       "    </tr>\n",
       "    <tr>\n",
       "      <th>47386</th>\n",
       "      <td>World</td>\n",
       "      <td>OWID_WRL</td>\n",
       "      <td>-3000</td>\n",
       "      <td>NaN</td>\n",
       "      <td>NaN</td>\n",
       "      <td>44819892.0</td>\n",
       "      <td>NaN</td>\n",
       "    </tr>\n",
       "    <tr>\n",
       "      <th>47387</th>\n",
       "      <td>World</td>\n",
       "      <td>OWID_WRL</td>\n",
       "      <td>-2000</td>\n",
       "      <td>NaN</td>\n",
       "      <td>NaN</td>\n",
       "      <td>72108128.0</td>\n",
       "      <td>NaN</td>\n",
       "    </tr>\n",
       "    <tr>\n",
       "      <th>47388</th>\n",
       "      <td>World</td>\n",
       "      <td>OWID_WRL</td>\n",
       "      <td>-1000</td>\n",
       "      <td>NaN</td>\n",
       "      <td>NaN</td>\n",
       "      <td>115065664.0</td>\n",
       "      <td>NaN</td>\n",
       "    </tr>\n",
       "  </tbody>\n",
       "</table>\n",
       "<p>70 rows × 7 columns</p>\n",
       "</div>"
      ],
      "text/plain": [
       "       Entity      Code   Year  Per capita mismanaged plastic waste  \\\n",
       "221    Africa       NaN -10000                                  NaN   \n",
       "222    Africa       NaN  -9000                                  NaN   \n",
       "223    Africa       NaN  -8000                                  NaN   \n",
       "224    Africa       NaN  -7000                                  NaN   \n",
       "225    Africa       NaN  -6000                                  NaN   \n",
       "...       ...       ...    ...                                  ...   \n",
       "47384   World  OWID_WRL  -5000                                  NaN   \n",
       "47385   World  OWID_WRL  -4000                                  NaN   \n",
       "47386   World  OWID_WRL  -3000                                  NaN   \n",
       "47387   World  OWID_WRL  -2000                                  NaN   \n",
       "47388   World  OWID_WRL  -1000                                  NaN   \n",
       "\n",
       "       GDP per capita, PPP (constant 2011 international $)  \\\n",
       "221                                                  NaN     \n",
       "222                                                  NaN     \n",
       "223                                                  NaN     \n",
       "224                                                  NaN     \n",
       "225                                                  NaN     \n",
       "...                                                  ...     \n",
       "47384                                                NaN     \n",
       "47385                                                NaN     \n",
       "47386                                                NaN     \n",
       "47387                                                NaN     \n",
       "47388                                                NaN     \n",
       "\n",
       "       Total population (Gapminder, HYDE & UN) Continent  \n",
       "221                                   241901.0       NaN  \n",
       "222                                   342782.0       NaN  \n",
       "223                                   490284.0       NaN  \n",
       "224                                   707844.0       NaN  \n",
       "225                                  1031529.0       NaN  \n",
       "...                                        ...       ...  \n",
       "47384                               17920172.0       NaN  \n",
       "47385                               28370428.0       NaN  \n",
       "47386                               44819892.0       NaN  \n",
       "47387                               72108128.0       NaN  \n",
       "47388                              115065664.0       NaN  \n",
       "\n",
       "[70 rows x 7 columns]"
      ]
     },
     "execution_count": 83,
     "metadata": {},
     "output_type": "execute_result"
    }
   ],
   "source": [
    "#let's do analysis on negative years from the dataset \n",
    "mpw_gdp[mpw_gdp['Year']<0]\n",
    "#As it is clear from this dataset we mostly have null values."
   ]
  },
  {
   "cell_type": "code",
   "execution_count": 84,
   "id": "62a2a343",
   "metadata": {},
   "outputs": [
    {
     "data": {
      "text/plain": [
       "(48168, 7)"
      ]
     },
     "execution_count": 84,
     "metadata": {},
     "output_type": "execute_result"
    }
   ],
   "source": [
    "mpw_gdp.shape"
   ]
  },
  {
   "cell_type": "code",
   "execution_count": 85,
   "id": "43e2543f",
   "metadata": {},
   "outputs": [
    {
     "data": {
      "text/plain": [
       "(48092, 7)"
      ]
     },
     "execution_count": 85,
     "metadata": {},
     "output_type": "execute_result"
    }
   ],
   "source": [
    "new_mpw_gdp = mpw_gdp[mpw_gdp['Year']>0]\n",
    "new_mpw_gdp.shape"
   ]
  },
  {
   "cell_type": "code",
   "execution_count": 86,
   "id": "cefd9332",
   "metadata": {},
   "outputs": [
    {
     "data": {
      "text/html": [
       "<div>\n",
       "<style scoped>\n",
       "    .dataframe tbody tr th:only-of-type {\n",
       "        vertical-align: middle;\n",
       "    }\n",
       "\n",
       "    .dataframe tbody tr th {\n",
       "        vertical-align: top;\n",
       "    }\n",
       "\n",
       "    .dataframe thead th {\n",
       "        text-align: right;\n",
       "    }\n",
       "</style>\n",
       "<table border=\"1\" class=\"dataframe\">\n",
       "  <thead>\n",
       "    <tr style=\"text-align: right;\">\n",
       "      <th></th>\n",
       "      <th>Entity</th>\n",
       "      <th>Code</th>\n",
       "      <th>Year</th>\n",
       "      <th>Per capita mismanaged plastic waste</th>\n",
       "      <th>GDP per capita, PPP (constant 2011 international $)</th>\n",
       "      <th>Total population (Gapminder, HYDE &amp; UN)</th>\n",
       "      <th>Continent</th>\n",
       "    </tr>\n",
       "  </thead>\n",
       "  <tbody>\n",
       "  </tbody>\n",
       "</table>\n",
       "</div>"
      ],
      "text/plain": [
       "Empty DataFrame\n",
       "Columns: [Entity, Code, Year, Per capita mismanaged plastic waste, GDP per capita, PPP (constant 2011 international $), Total population (Gapminder, HYDE & UN), Continent]\n",
       "Index: []"
      ]
     },
     "execution_count": 86,
     "metadata": {},
     "output_type": "execute_result"
    }
   ],
   "source": [
    "#let's check \n",
    "new_mpw_gdp[new_mpw_gdp['Year']<0]\n",
    "#looks fine."
   ]
  },
  {
   "cell_type": "markdown",
   "id": "28f643ca",
   "metadata": {},
   "source": [
    "### Which Continent, GDP per person is Highest and Lowest in 2011?"
   ]
  },
  {
   "cell_type": "code",
   "execution_count": 87,
   "id": "6118c2d6",
   "metadata": {},
   "outputs": [
    {
     "data": {
      "image/png": "[encoded data removed]",
      "text/plain": [
       "<Figure size 1000x600 with 1 Axes>"
      ]
     },
     "metadata": {},
     "output_type": "display_data"
    }
   ],
   "source": [
    "plt.figure(figsize=(10,6))\n",
    "sns.barplot(x=new_mpw_gdp['Continent'],y=new_mpw_gdp['GDP per capita, PPP (constant 2011 international $)'])\n",
    "plt.show()"
   ]
  },
  {
   "cell_type": "markdown",
   "id": "070fa9a4",
   "metadata": {},
   "source": [
    "- **As it is clear from the above figure, the highest is Europe and the lowest is Africa.** \n",
    "- **From the figure and above analysis we can't say Antarctica is the smallest we have many null values present in the dataset.**\n"
   ]
  },
  {
   "cell_type": "markdown",
   "id": "2ae8e05e",
   "metadata": {},
   "source": [
    "### In which Continent, Mismanaged Plastic waste is more and less by per person?"
   ]
  },
  {
   "cell_type": "code",
   "execution_count": 88,
   "id": "17d4d2df",
   "metadata": {},
   "outputs": [
    {
     "data": {
      "text/plain": [
       "186"
      ]
     },
     "execution_count": 88,
     "metadata": {},
     "output_type": "execute_result"
    }
   ],
   "source": [
    "new_mpw_gdp.shape[0] - new_mpw_gdp['Per capita mismanaged plastic waste'].isnull().sum()\n",
    "# The dataset contains only 186 data points"
   ]
  },
  {
   "cell_type": "code",
   "execution_count": 89,
   "id": "fefa5cf7",
   "metadata": {},
   "outputs": [
    {
     "data": {
      "text/plain": [
       "Entity                                                   0\n",
       "Code                                                     0\n",
       "Year                                                     0\n",
       "Per capita mismanaged plastic waste                      0\n",
       "GDP per capita, PPP (constant 2011 international $)     38\n",
       "Total population (Gapminder, HYDE & UN)                  5\n",
       "Continent                                              186\n",
       "dtype: int64"
      ]
     },
     "execution_count": 89,
     "metadata": {},
     "output_type": "execute_result"
    }
   ],
   "source": [
    "# This dataframe only contain above 186 datapoints \n",
    "new_df = new_mpw_gdp[new_mpw_gdp['Per capita mismanaged plastic waste'].notna()]\n",
    "new_df.isnull().sum()\n",
    "#From the below results, We can't answer the question because we don't have any value for continent."
   ]
  },
  {
   "cell_type": "markdown",
   "id": "b16de9a8",
   "metadata": {},
   "source": [
    "## Dataset: Per Capita Plastic Waste VS GDP Per Capita"
   ]
  },
  {
   "cell_type": "code",
   "execution_count": 90,
   "id": "de1e1aa1",
   "metadata": {},
   "outputs": [
    {
     "data": {
      "text/html": [
       "<div>\n",
       "<style scoped>\n",
       "    .dataframe tbody tr th:only-of-type {\n",
       "        vertical-align: middle;\n",
       "    }\n",
       "\n",
       "    .dataframe tbody tr th {\n",
       "        vertical-align: top;\n",
       "    }\n",
       "\n",
       "    .dataframe thead th {\n",
       "        text-align: right;\n",
       "    }\n",
       "</style>\n",
       "<table border=\"1\" class=\"dataframe\">\n",
       "  <thead>\n",
       "    <tr style=\"text-align: right;\">\n",
       "      <th></th>\n",
       "      <th>Entity</th>\n",
       "      <th>Code</th>\n",
       "      <th>Year</th>\n",
       "      <th>Per capita plastic waste (kg/person/day)</th>\n",
       "      <th>GDP per capita, PPP (constant 2011 international $)</th>\n",
       "      <th>Total population (Gapminder, HYDE &amp; UN)</th>\n",
       "      <th>Continent</th>\n",
       "    </tr>\n",
       "  </thead>\n",
       "  <tbody>\n",
       "    <tr>\n",
       "      <th>0</th>\n",
       "      <td>Abkhazia</td>\n",
       "      <td>OWID_ABK</td>\n",
       "      <td>2015</td>\n",
       "      <td>NaN</td>\n",
       "      <td>NaN</td>\n",
       "      <td>NaN</td>\n",
       "      <td>Asia</td>\n",
       "    </tr>\n",
       "    <tr>\n",
       "      <th>1</th>\n",
       "      <td>Afghanistan</td>\n",
       "      <td>AFG</td>\n",
       "      <td>2002</td>\n",
       "      <td>NaN</td>\n",
       "      <td>1063.635574</td>\n",
       "      <td>22601000.0</td>\n",
       "      <td>NaN</td>\n",
       "    </tr>\n",
       "    <tr>\n",
       "      <th>2</th>\n",
       "      <td>Afghanistan</td>\n",
       "      <td>AFG</td>\n",
       "      <td>2003</td>\n",
       "      <td>NaN</td>\n",
       "      <td>1099.194507</td>\n",
       "      <td>23681000.0</td>\n",
       "      <td>NaN</td>\n",
       "    </tr>\n",
       "    <tr>\n",
       "      <th>3</th>\n",
       "      <td>Afghanistan</td>\n",
       "      <td>AFG</td>\n",
       "      <td>2004</td>\n",
       "      <td>NaN</td>\n",
       "      <td>1062.249360</td>\n",
       "      <td>24727000.0</td>\n",
       "      <td>NaN</td>\n",
       "    </tr>\n",
       "    <tr>\n",
       "      <th>4</th>\n",
       "      <td>Afghanistan</td>\n",
       "      <td>AFG</td>\n",
       "      <td>2005</td>\n",
       "      <td>NaN</td>\n",
       "      <td>1136.123214</td>\n",
       "      <td>25654000.0</td>\n",
       "      <td>NaN</td>\n",
       "    </tr>\n",
       "  </tbody>\n",
       "</table>\n",
       "</div>"
      ],
      "text/plain": [
       "        Entity      Code  Year  Per capita plastic waste (kg/person/day)  \\\n",
       "0     Abkhazia  OWID_ABK  2015                                       NaN   \n",
       "1  Afghanistan       AFG  2002                                       NaN   \n",
       "2  Afghanistan       AFG  2003                                       NaN   \n",
       "3  Afghanistan       AFG  2004                                       NaN   \n",
       "4  Afghanistan       AFG  2005                                       NaN   \n",
       "\n",
       "   GDP per capita, PPP (constant 2011 international $)  \\\n",
       "0                                                NaN     \n",
       "1                                        1063.635574     \n",
       "2                                        1099.194507     \n",
       "3                                        1062.249360     \n",
       "4                                        1136.123214     \n",
       "\n",
       "   Total population (Gapminder, HYDE & UN) Continent  \n",
       "0                                      NaN      Asia  \n",
       "1                               22601000.0       NaN  \n",
       "2                               23681000.0       NaN  \n",
       "3                               24727000.0       NaN  \n",
       "4                               25654000.0       NaN  "
      ]
     },
     "execution_count": 90,
     "metadata": {},
     "output_type": "execute_result"
    }
   ],
   "source": [
    "pcpw_gdp = pd.read_csv(\"per-capita-plastic-waste-vs-gdp-per-capita.csv\")\n",
    "pcpw_gdp.head()"
   ]
  },
  {
   "cell_type": "code",
   "execution_count": 91,
   "id": "7334f3b0",
   "metadata": {},
   "outputs": [
    {
     "name": "stdout",
     "output_type": "stream",
     "text": [
      "<class 'pandas.core.frame.DataFrame'>\n",
      "RangeIndex: 48168 entries, 0 to 48167\n",
      "Data columns (total 7 columns):\n",
      " #   Column                                               Non-Null Count  Dtype  \n",
      "---  ------                                               --------------  -----  \n",
      " 0   Entity                                               48168 non-null  object \n",
      " 1   Code                                                 46154 non-null  object \n",
      " 2   Year                                                 48168 non-null  int64  \n",
      " 3   Per capita plastic waste (kg/person/day)             186 non-null    float64\n",
      " 4   GDP per capita, PPP (constant 2011 international $)  6407 non-null   float64\n",
      " 5   Total population (Gapminder, HYDE & UN)              46883 non-null  float64\n",
      " 6   Continent                                            285 non-null    object \n",
      "dtypes: float64(3), int64(1), object(3)\n",
      "memory usage: 2.6+ MB\n"
     ]
    }
   ],
   "source": [
    "pcpw_gdp.info()"
   ]
  },
  {
   "cell_type": "code",
   "execution_count": 92,
   "id": "dc4402e1",
   "metadata": {},
   "outputs": [
    {
     "data": {
      "text/html": [
       "<div>\n",
       "<style scoped>\n",
       "    .dataframe tbody tr th:only-of-type {\n",
       "        vertical-align: middle;\n",
       "    }\n",
       "\n",
       "    .dataframe tbody tr th {\n",
       "        vertical-align: top;\n",
       "    }\n",
       "\n",
       "    .dataframe thead th {\n",
       "        text-align: right;\n",
       "    }\n",
       "</style>\n",
       "<table border=\"1\" class=\"dataframe\">\n",
       "  <thead>\n",
       "    <tr style=\"text-align: right;\">\n",
       "      <th></th>\n",
       "      <th>count</th>\n",
       "      <th>mean</th>\n",
       "      <th>std</th>\n",
       "      <th>min</th>\n",
       "      <th>25%</th>\n",
       "      <th>50%</th>\n",
       "      <th>75%</th>\n",
       "      <th>max</th>\n",
       "    </tr>\n",
       "  </thead>\n",
       "  <tbody>\n",
       "    <tr>\n",
       "      <th>Year</th>\n",
       "      <td>48168.0</td>\n",
       "      <td>1.903147e+03</td>\n",
       "      <td>3.157168e+02</td>\n",
       "      <td>-10000.00000</td>\n",
       "      <td>1859.000000</td>\n",
       "      <td>1.920000e+03</td>\n",
       "      <td>1.975000e+03</td>\n",
       "      <td>2.019000e+03</td>\n",
       "    </tr>\n",
       "    <tr>\n",
       "      <th>Per capita plastic waste (kg/person/day)</th>\n",
       "      <td>186.0</td>\n",
       "      <td>1.798118e-01</td>\n",
       "      <td>1.230064e-01</td>\n",
       "      <td>0.01000</td>\n",
       "      <td>0.103000</td>\n",
       "      <td>1.440000e-01</td>\n",
       "      <td>2.520000e-01</td>\n",
       "      <td>6.860000e-01</td>\n",
       "    </tr>\n",
       "    <tr>\n",
       "      <th>GDP per capita, PPP (constant 2011 international $)</th>\n",
       "      <td>6407.0</td>\n",
       "      <td>1.492610e+04</td>\n",
       "      <td>1.773975e+04</td>\n",
       "      <td>247.43654</td>\n",
       "      <td>3021.071807</td>\n",
       "      <td>8.447264e+03</td>\n",
       "      <td>1.960754e+04</td>\n",
       "      <td>1.353188e+05</td>\n",
       "    </tr>\n",
       "    <tr>\n",
       "      <th>Total population (Gapminder, HYDE &amp; UN)</th>\n",
       "      <td>46883.0</td>\n",
       "      <td>2.982790e+07</td>\n",
       "      <td>2.530860e+08</td>\n",
       "      <td>905.00000</td>\n",
       "      <td>201733.500000</td>\n",
       "      <td>1.542937e+06</td>\n",
       "      <td>5.886795e+06</td>\n",
       "      <td>7.713468e+09</td>\n",
       "    </tr>\n",
       "  </tbody>\n",
       "</table>\n",
       "</div>"
      ],
      "text/plain": [
       "                                                      count          mean  \\\n",
       "Year                                                48168.0  1.903147e+03   \n",
       "Per capita plastic waste (kg/person/day)              186.0  1.798118e-01   \n",
       "GDP per capita, PPP (constant 2011 internationa...   6407.0  1.492610e+04   \n",
       "Total population (Gapminder, HYDE & UN)             46883.0  2.982790e+07   \n",
       "\n",
       "                                                             std          min  \\\n",
       "Year                                                3.157168e+02 -10000.00000   \n",
       "Per capita plastic waste (kg/person/day)            1.230064e-01      0.01000   \n",
       "GDP per capita, PPP (constant 2011 internationa...  1.773975e+04    247.43654   \n",
       "Total population (Gapminder, HYDE & UN)             2.530860e+08    905.00000   \n",
       "\n",
       "                                                              25%  \\\n",
       "Year                                                  1859.000000   \n",
       "Per capita plastic waste (kg/person/day)                 0.103000   \n",
       "GDP per capita, PPP (constant 2011 internationa...    3021.071807   \n",
       "Total population (Gapminder, HYDE & UN)             201733.500000   \n",
       "\n",
       "                                                             50%  \\\n",
       "Year                                                1.920000e+03   \n",
       "Per capita plastic waste (kg/person/day)            1.440000e-01   \n",
       "GDP per capita, PPP (constant 2011 internationa...  8.447264e+03   \n",
       "Total population (Gapminder, HYDE & UN)             1.542937e+06   \n",
       "\n",
       "                                                             75%           max  \n",
       "Year                                                1.975000e+03  2.019000e+03  \n",
       "Per capita plastic waste (kg/person/day)            2.520000e-01  6.860000e-01  \n",
       "GDP per capita, PPP (constant 2011 internationa...  1.960754e+04  1.353188e+05  \n",
       "Total population (Gapminder, HYDE & UN)             5.886795e+06  7.713468e+09  "
      ]
     },
     "execution_count": 92,
     "metadata": {},
     "output_type": "execute_result"
    }
   ],
   "source": [
    "pcpw_gdp.describe().T"
   ]
  },
  {
   "cell_type": "markdown",
   "id": "ffdbe09f",
   "metadata": {},
   "source": [
    "- **From the above result, it is clear that the dataset has one different column only.**"
   ]
  },
  {
   "cell_type": "markdown",
   "id": "90240c73",
   "metadata": {},
   "source": [
    "## Dataset: Plastic Waste Per Capita"
   ]
  },
  {
   "cell_type": "code",
   "execution_count": 93,
   "id": "69d6d583",
   "metadata": {},
   "outputs": [
    {
     "data": {
      "text/html": [
       "<div>\n",
       "<style scoped>\n",
       "    .dataframe tbody tr th:only-of-type {\n",
       "        vertical-align: middle;\n",
       "    }\n",
       "\n",
       "    .dataframe tbody tr th {\n",
       "        vertical-align: top;\n",
       "    }\n",
       "\n",
       "    .dataframe thead th {\n",
       "        text-align: right;\n",
       "    }\n",
       "</style>\n",
       "<table border=\"1\" class=\"dataframe\">\n",
       "  <thead>\n",
       "    <tr style=\"text-align: right;\">\n",
       "      <th></th>\n",
       "      <th>Entity</th>\n",
       "      <th>Code</th>\n",
       "      <th>Year</th>\n",
       "      <th>Per capita plastic waste (kg/person/day)</th>\n",
       "    </tr>\n",
       "  </thead>\n",
       "  <tbody>\n",
       "    <tr>\n",
       "      <th>0</th>\n",
       "      <td>Albania</td>\n",
       "      <td>ALB</td>\n",
       "      <td>2010</td>\n",
       "      <td>0.069</td>\n",
       "    </tr>\n",
       "    <tr>\n",
       "      <th>1</th>\n",
       "      <td>Algeria</td>\n",
       "      <td>DZA</td>\n",
       "      <td>2010</td>\n",
       "      <td>0.144</td>\n",
       "    </tr>\n",
       "    <tr>\n",
       "      <th>2</th>\n",
       "      <td>Angola</td>\n",
       "      <td>AGO</td>\n",
       "      <td>2010</td>\n",
       "      <td>0.062</td>\n",
       "    </tr>\n",
       "    <tr>\n",
       "      <th>3</th>\n",
       "      <td>Anguilla</td>\n",
       "      <td>AIA</td>\n",
       "      <td>2010</td>\n",
       "      <td>0.252</td>\n",
       "    </tr>\n",
       "    <tr>\n",
       "      <th>4</th>\n",
       "      <td>Antigua and Barbuda</td>\n",
       "      <td>ATG</td>\n",
       "      <td>2010</td>\n",
       "      <td>0.660</td>\n",
       "    </tr>\n",
       "  </tbody>\n",
       "</table>\n",
       "</div>"
      ],
      "text/plain": [
       "                Entity Code  Year  Per capita plastic waste (kg/person/day)\n",
       "0              Albania  ALB  2010                                     0.069\n",
       "1              Algeria  DZA  2010                                     0.144\n",
       "2               Angola  AGO  2010                                     0.062\n",
       "3             Anguilla  AIA  2010                                     0.252\n",
       "4  Antigua and Barbuda  ATG  2010                                     0.660"
      ]
     },
     "execution_count": 93,
     "metadata": {},
     "output_type": "execute_result"
    }
   ],
   "source": [
    "pwpc = pd.read_csv(\"plastic-waste-per-capita.csv\")\n",
    "pwpc.head()"
   ]
  },
  {
   "cell_type": "code",
   "execution_count": 94,
   "id": "40f6670e",
   "metadata": {},
   "outputs": [
    {
     "name": "stdout",
     "output_type": "stream",
     "text": [
      "<class 'pandas.core.frame.DataFrame'>\n",
      "RangeIndex: 186 entries, 0 to 185\n",
      "Data columns (total 4 columns):\n",
      " #   Column                                    Non-Null Count  Dtype  \n",
      "---  ------                                    --------------  -----  \n",
      " 0   Entity                                    186 non-null    object \n",
      " 1   Code                                      186 non-null    object \n",
      " 2   Year                                      186 non-null    int64  \n",
      " 3   Per capita plastic waste (kg/person/day)  186 non-null    float64\n",
      "dtypes: float64(1), int64(1), object(2)\n",
      "memory usage: 5.9+ KB\n"
     ]
    }
   ],
   "source": [
    "pwpc.info()"
   ]
  },
  {
   "cell_type": "code",
   "execution_count": 95,
   "id": "f42631ee",
   "metadata": {},
   "outputs": [
    {
     "data": {
      "text/html": [
       "<div>\n",
       "<style scoped>\n",
       "    .dataframe tbody tr th:only-of-type {\n",
       "        vertical-align: middle;\n",
       "    }\n",
       "\n",
       "    .dataframe tbody tr th {\n",
       "        vertical-align: top;\n",
       "    }\n",
       "\n",
       "    .dataframe thead th {\n",
       "        text-align: right;\n",
       "    }\n",
       "</style>\n",
       "<table border=\"1\" class=\"dataframe\">\n",
       "  <thead>\n",
       "    <tr style=\"text-align: right;\">\n",
       "      <th></th>\n",
       "      <th>count</th>\n",
       "      <th>mean</th>\n",
       "      <th>std</th>\n",
       "      <th>min</th>\n",
       "      <th>25%</th>\n",
       "      <th>50%</th>\n",
       "      <th>75%</th>\n",
       "      <th>max</th>\n",
       "    </tr>\n",
       "  </thead>\n",
       "  <tbody>\n",
       "    <tr>\n",
       "      <th>Year</th>\n",
       "      <td>186.0</td>\n",
       "      <td>2010.000000</td>\n",
       "      <td>0.000000</td>\n",
       "      <td>2010.00</td>\n",
       "      <td>2010.000</td>\n",
       "      <td>2010.000</td>\n",
       "      <td>2010.000</td>\n",
       "      <td>2010.000</td>\n",
       "    </tr>\n",
       "    <tr>\n",
       "      <th>Per capita plastic waste (kg/person/day)</th>\n",
       "      <td>186.0</td>\n",
       "      <td>0.179812</td>\n",
       "      <td>0.123006</td>\n",
       "      <td>0.01</td>\n",
       "      <td>0.103</td>\n",
       "      <td>0.144</td>\n",
       "      <td>0.252</td>\n",
       "      <td>0.686</td>\n",
       "    </tr>\n",
       "  </tbody>\n",
       "</table>\n",
       "</div>"
      ],
      "text/plain": [
       "                                          count         mean       std  \\\n",
       "Year                                      186.0  2010.000000  0.000000   \n",
       "Per capita plastic waste (kg/person/day)  186.0     0.179812  0.123006   \n",
       "\n",
       "                                              min       25%       50%  \\\n",
       "Year                                      2010.00  2010.000  2010.000   \n",
       "Per capita plastic waste (kg/person/day)     0.01     0.103     0.144   \n",
       "\n",
       "                                               75%       max  \n",
       "Year                                      2010.000  2010.000  \n",
       "Per capita plastic waste (kg/person/day)     0.252     0.686  "
      ]
     },
     "execution_count": 95,
     "metadata": {},
     "output_type": "execute_result"
    }
   ],
   "source": [
    "pwpc.describe().T"
   ]
  },
  {
   "cell_type": "markdown",
   "id": "53a9afba",
   "metadata": {},
   "source": [
    "### In 2010, in which country per person is plastic waste highest and lowest?"
   ]
  },
  {
   "cell_type": "code",
   "execution_count": 96,
   "id": "07e627c8",
   "metadata": {},
   "outputs": [
    {
     "data": {
      "text/html": [
       "<div>\n",
       "<style scoped>\n",
       "    .dataframe tbody tr th:only-of-type {\n",
       "        vertical-align: middle;\n",
       "    }\n",
       "\n",
       "    .dataframe tbody tr th {\n",
       "        vertical-align: top;\n",
       "    }\n",
       "\n",
       "    .dataframe thead th {\n",
       "        text-align: right;\n",
       "    }\n",
       "</style>\n",
       "<table border=\"1\" class=\"dataframe\">\n",
       "  <thead>\n",
       "    <tr style=\"text-align: right;\">\n",
       "      <th></th>\n",
       "      <th>Entity</th>\n",
       "      <th>Code</th>\n",
       "      <th>Year</th>\n",
       "      <th>Per capita plastic waste (kg/person/day)</th>\n",
       "    </tr>\n",
       "  </thead>\n",
       "  <tbody>\n",
       "    <tr>\n",
       "      <th>91</th>\n",
       "      <td>Kuwait</td>\n",
       "      <td>KWT</td>\n",
       "      <td>2010</td>\n",
       "      <td>0.686</td>\n",
       "    </tr>\n",
       "  </tbody>\n",
       "</table>\n",
       "</div>"
      ],
      "text/plain": [
       "    Entity Code  Year  Per capita plastic waste (kg/person/day)\n",
       "91  Kuwait  KWT  2010                                     0.686"
      ]
     },
     "execution_count": 96,
     "metadata": {},
     "output_type": "execute_result"
    }
   ],
   "source": [
    "pwpc[pwpc['Per capita plastic waste (kg/person/day)'] == max(pwpc['Per capita plastic waste (kg/person/day)'])]"
   ]
  },
  {
   "cell_type": "code",
   "execution_count": 97,
   "id": "6ad99905",
   "metadata": {},
   "outputs": [
    {
     "data": {
      "text/html": [
       "<div>\n",
       "<style scoped>\n",
       "    .dataframe tbody tr th:only-of-type {\n",
       "        vertical-align: middle;\n",
       "    }\n",
       "\n",
       "    .dataframe tbody tr th {\n",
       "        vertical-align: top;\n",
       "    }\n",
       "\n",
       "    .dataframe thead th {\n",
       "        text-align: right;\n",
       "    }\n",
       "</style>\n",
       "<table border=\"1\" class=\"dataframe\">\n",
       "  <thead>\n",
       "    <tr style=\"text-align: right;\">\n",
       "      <th></th>\n",
       "      <th>Entity</th>\n",
       "      <th>Code</th>\n",
       "      <th>Year</th>\n",
       "      <th>Per capita plastic waste (kg/person/day)</th>\n",
       "    </tr>\n",
       "  </thead>\n",
       "  <tbody>\n",
       "    <tr>\n",
       "      <th>79</th>\n",
       "      <td>India</td>\n",
       "      <td>IND</td>\n",
       "      <td>2010</td>\n",
       "      <td>0.01</td>\n",
       "    </tr>\n",
       "  </tbody>\n",
       "</table>\n",
       "</div>"
      ],
      "text/plain": [
       "   Entity Code  Year  Per capita plastic waste (kg/person/day)\n",
       "79  India  IND  2010                                      0.01"
      ]
     },
     "execution_count": 97,
     "metadata": {},
     "output_type": "execute_result"
    }
   ],
   "source": [
    "pwpc[pwpc['Per capita plastic waste (kg/person/day)'] == min(pwpc['Per capita plastic waste (kg/person/day)'])]"
   ]
  },
  {
   "cell_type": "markdown",
   "id": "df780663",
   "metadata": {},
   "source": [
    "- **So, Kuwait has highest per person waste and India has the lowest in 2010.**"
   ]
  },
  {
   "cell_type": "markdown",
   "id": "95755c36",
   "metadata": {},
   "source": [
    "## After analyzing all the datasets, we can merge all the datasets on 2010-year bases."
   ]
  },
  {
   "cell_type": "code",
   "execution_count": 99,
   "id": "0ed67382",
   "metadata": {},
   "outputs": [
    {
     "data": {
      "text/html": [
       "<div>\n",
       "<style scoped>\n",
       "    .dataframe tbody tr th:only-of-type {\n",
       "        vertical-align: middle;\n",
       "    }\n",
       "\n",
       "    .dataframe tbody tr th {\n",
       "        vertical-align: top;\n",
       "    }\n",
       "\n",
       "    .dataframe thead th {\n",
       "        text-align: right;\n",
       "    }\n",
       "</style>\n",
       "<table border=\"1\" class=\"dataframe\">\n",
       "  <thead>\n",
       "    <tr style=\"text-align: right;\">\n",
       "      <th></th>\n",
       "      <th>Entity_x</th>\n",
       "      <th>Code</th>\n",
       "      <th>Year_x</th>\n",
       "      <th>Per capita plastic waste (kg/person/day)</th>\n",
       "      <th>Entity_y</th>\n",
       "      <th>Year_y</th>\n",
       "      <th>Mismanaged waste (% global total)</th>\n",
       "    </tr>\n",
       "  </thead>\n",
       "  <tbody>\n",
       "    <tr>\n",
       "      <th>0</th>\n",
       "      <td>Albania</td>\n",
       "      <td>ALB</td>\n",
       "      <td>2010</td>\n",
       "      <td>0.069</td>\n",
       "      <td>Albania</td>\n",
       "      <td>2010</td>\n",
       "      <td>0.0933</td>\n",
       "    </tr>\n",
       "    <tr>\n",
       "      <th>1</th>\n",
       "      <td>Algeria</td>\n",
       "      <td>DZA</td>\n",
       "      <td>2010</td>\n",
       "      <td>0.144</td>\n",
       "      <td>Algeria</td>\n",
       "      <td>2010</td>\n",
       "      <td>1.6347</td>\n",
       "    </tr>\n",
       "    <tr>\n",
       "      <th>2</th>\n",
       "      <td>Angola</td>\n",
       "      <td>AGO</td>\n",
       "      <td>2010</td>\n",
       "      <td>0.062</td>\n",
       "      <td>Angola</td>\n",
       "      <td>2010</td>\n",
       "      <td>0.1964</td>\n",
       "    </tr>\n",
       "    <tr>\n",
       "      <th>3</th>\n",
       "      <td>Anguilla</td>\n",
       "      <td>AIA</td>\n",
       "      <td>2010</td>\n",
       "      <td>0.252</td>\n",
       "      <td>Anguilla</td>\n",
       "      <td>2010</td>\n",
       "      <td>0.0002</td>\n",
       "    </tr>\n",
       "    <tr>\n",
       "      <th>4</th>\n",
       "      <td>Antigua and Barbuda</td>\n",
       "      <td>ATG</td>\n",
       "      <td>2010</td>\n",
       "      <td>0.660</td>\n",
       "      <td>Antigua and Barbuda</td>\n",
       "      <td>2010</td>\n",
       "      <td>0.0039</td>\n",
       "    </tr>\n",
       "  </tbody>\n",
       "</table>\n",
       "</div>"
      ],
      "text/plain": [
       "              Entity_x Code  Year_x  Per capita plastic waste (kg/person/day)  \\\n",
       "0              Albania  ALB    2010                                     0.069   \n",
       "1              Algeria  DZA    2010                                     0.144   \n",
       "2               Angola  AGO    2010                                     0.062   \n",
       "3             Anguilla  AIA    2010                                     0.252   \n",
       "4  Antigua and Barbuda  ATG    2010                                     0.660   \n",
       "\n",
       "              Entity_y  Year_y  Mismanaged waste (% global total)  \n",
       "0              Albania    2010                             0.0933  \n",
       "1              Algeria    2010                             1.6347  \n",
       "2               Angola    2010                             0.1964  \n",
       "3             Anguilla    2010                             0.0002  \n",
       "4  Antigua and Barbuda    2010                             0.0039  "
      ]
     },
     "execution_count": 99,
     "metadata": {},
     "output_type": "execute_result"
    }
   ],
   "source": [
    "#Merging Plastic Waste Per Capita and Mismanaged Waste Global Total\n",
    "merged_df = pd.merge(pwpc,mwgt, on = \"Code\")\n",
    "merged_df.head()"
   ]
  },
  {
   "cell_type": "code",
   "execution_count": 101,
   "id": "56a867f3",
   "metadata": {},
   "outputs": [
    {
     "data": {
      "text/html": [
       "<div>\n",
       "<style scoped>\n",
       "    .dataframe tbody tr th:only-of-type {\n",
       "        vertical-align: middle;\n",
       "    }\n",
       "\n",
       "    .dataframe tbody tr th {\n",
       "        vertical-align: top;\n",
       "    }\n",
       "\n",
       "    .dataframe thead th {\n",
       "        text-align: right;\n",
       "    }\n",
       "</style>\n",
       "<table border=\"1\" class=\"dataframe\">\n",
       "  <thead>\n",
       "    <tr style=\"text-align: right;\">\n",
       "      <th></th>\n",
       "      <th>Entity_x</th>\n",
       "      <th>Code</th>\n",
       "      <th>Year_x</th>\n",
       "      <th>Per capita plastic waste (kg/person/day)</th>\n",
       "      <th>Mismanaged waste (% global total)</th>\n",
       "    </tr>\n",
       "  </thead>\n",
       "  <tbody>\n",
       "    <tr>\n",
       "      <th>0</th>\n",
       "      <td>Albania</td>\n",
       "      <td>ALB</td>\n",
       "      <td>2010</td>\n",
       "      <td>0.069</td>\n",
       "      <td>0.0933</td>\n",
       "    </tr>\n",
       "    <tr>\n",
       "      <th>1</th>\n",
       "      <td>Algeria</td>\n",
       "      <td>DZA</td>\n",
       "      <td>2010</td>\n",
       "      <td>0.144</td>\n",
       "      <td>1.6347</td>\n",
       "    </tr>\n",
       "    <tr>\n",
       "      <th>2</th>\n",
       "      <td>Angola</td>\n",
       "      <td>AGO</td>\n",
       "      <td>2010</td>\n",
       "      <td>0.062</td>\n",
       "      <td>0.1964</td>\n",
       "    </tr>\n",
       "    <tr>\n",
       "      <th>3</th>\n",
       "      <td>Anguilla</td>\n",
       "      <td>AIA</td>\n",
       "      <td>2010</td>\n",
       "      <td>0.252</td>\n",
       "      <td>0.0002</td>\n",
       "    </tr>\n",
       "    <tr>\n",
       "      <th>4</th>\n",
       "      <td>Antigua and Barbuda</td>\n",
       "      <td>ATG</td>\n",
       "      <td>2010</td>\n",
       "      <td>0.660</td>\n",
       "      <td>0.0039</td>\n",
       "    </tr>\n",
       "  </tbody>\n",
       "</table>\n",
       "</div>"
      ],
      "text/plain": [
       "              Entity_x Code  Year_x  Per capita plastic waste (kg/person/day)  \\\n",
       "0              Albania  ALB    2010                                     0.069   \n",
       "1              Algeria  DZA    2010                                     0.144   \n",
       "2               Angola  AGO    2010                                     0.062   \n",
       "3             Anguilla  AIA    2010                                     0.252   \n",
       "4  Antigua and Barbuda  ATG    2010                                     0.660   \n",
       "\n",
       "   Mismanaged waste (% global total)  \n",
       "0                             0.0933  \n",
       "1                             1.6347  \n",
       "2                             0.1964  \n",
       "3                             0.0002  \n",
       "4                             0.0039  "
      ]
     },
     "execution_count": 101,
     "metadata": {},
     "output_type": "execute_result"
    }
   ],
   "source": [
    "#droping Entity_y and Year_y\n",
    "merged_df.drop([\"Entity_y\",\"Year_y\"],axis=1,inplace=True)\n",
    "merged_df.head()"
   ]
  },
  {
   "cell_type": "code",
   "execution_count": 102,
   "id": "01eecbc5",
   "metadata": {},
   "outputs": [
    {
     "data": {
      "text/plain": [
       "Entity_x                                    0\n",
       "Code                                        0\n",
       "Year_x                                      0\n",
       "Per capita plastic waste (kg/person/day)    0\n",
       "Mismanaged waste (% global total)           0\n",
       "dtype: int64"
      ]
     },
     "execution_count": 102,
     "metadata": {},
     "output_type": "execute_result"
    }
   ],
   "source": [
    "merged_df.isnull().sum()"
   ]
  },
  {
   "cell_type": "code",
   "execution_count": 103,
   "id": "8425b62e",
   "metadata": {},
   "outputs": [
    {
     "data": {
      "text/html": [
       "<div>\n",
       "<style scoped>\n",
       "    .dataframe tbody tr th:only-of-type {\n",
       "        vertical-align: middle;\n",
       "    }\n",
       "\n",
       "    .dataframe tbody tr th {\n",
       "        vertical-align: top;\n",
       "    }\n",
       "\n",
       "    .dataframe thead th {\n",
       "        text-align: right;\n",
       "    }\n",
       "</style>\n",
       "<table border=\"1\" class=\"dataframe\">\n",
       "  <thead>\n",
       "    <tr style=\"text-align: right;\">\n",
       "      <th></th>\n",
       "      <th>Entity</th>\n",
       "      <th>Code</th>\n",
       "      <th>Year</th>\n",
       "      <th>Per capita plastic waste (kg/person/day)</th>\n",
       "      <th>Mismanaged waste (% global total)</th>\n",
       "    </tr>\n",
       "  </thead>\n",
       "  <tbody>\n",
       "    <tr>\n",
       "      <th>0</th>\n",
       "      <td>Albania</td>\n",
       "      <td>ALB</td>\n",
       "      <td>2010</td>\n",
       "      <td>0.069</td>\n",
       "      <td>0.0933</td>\n",
       "    </tr>\n",
       "    <tr>\n",
       "      <th>1</th>\n",
       "      <td>Algeria</td>\n",
       "      <td>DZA</td>\n",
       "      <td>2010</td>\n",
       "      <td>0.144</td>\n",
       "      <td>1.6347</td>\n",
       "    </tr>\n",
       "    <tr>\n",
       "      <th>2</th>\n",
       "      <td>Angola</td>\n",
       "      <td>AGO</td>\n",
       "      <td>2010</td>\n",
       "      <td>0.062</td>\n",
       "      <td>0.1964</td>\n",
       "    </tr>\n",
       "    <tr>\n",
       "      <th>3</th>\n",
       "      <td>Anguilla</td>\n",
       "      <td>AIA</td>\n",
       "      <td>2010</td>\n",
       "      <td>0.252</td>\n",
       "      <td>0.0002</td>\n",
       "    </tr>\n",
       "    <tr>\n",
       "      <th>4</th>\n",
       "      <td>Antigua and Barbuda</td>\n",
       "      <td>ATG</td>\n",
       "      <td>2010</td>\n",
       "      <td>0.660</td>\n",
       "      <td>0.0039</td>\n",
       "    </tr>\n",
       "  </tbody>\n",
       "</table>\n",
       "</div>"
      ],
      "text/plain": [
       "                Entity Code  Year  Per capita plastic waste (kg/person/day)  \\\n",
       "0              Albania  ALB  2010                                     0.069   \n",
       "1              Algeria  DZA  2010                                     0.144   \n",
       "2               Angola  AGO  2010                                     0.062   \n",
       "3             Anguilla  AIA  2010                                     0.252   \n",
       "4  Antigua and Barbuda  ATG  2010                                     0.660   \n",
       "\n",
       "   Mismanaged waste (% global total)  \n",
       "0                             0.0933  \n",
       "1                             1.6347  \n",
       "2                             0.1964  \n",
       "3                             0.0002  \n",
       "4                             0.0039  "
      ]
     },
     "execution_count": 103,
     "metadata": {},
     "output_type": "execute_result"
    }
   ],
   "source": [
    "#renaming Entity_x and Year_x to Entity and Year\n",
    "merged_df.rename(columns={\"Entity_x\":\"Entity\",\"Year_x\":\"Year\"},inplace=True)\n",
    "merged_df.head()"
   ]
  },
  {
   "cell_type": "code",
   "execution_count": 104,
   "id": "ab207718",
   "metadata": {},
   "outputs": [
    {
     "data": {
      "text/html": [
       "<div>\n",
       "<style scoped>\n",
       "    .dataframe tbody tr th:only-of-type {\n",
       "        vertical-align: middle;\n",
       "    }\n",
       "\n",
       "    .dataframe tbody tr th {\n",
       "        vertical-align: top;\n",
       "    }\n",
       "\n",
       "    .dataframe thead th {\n",
       "        text-align: right;\n",
       "    }\n",
       "</style>\n",
       "<table border=\"1\" class=\"dataframe\">\n",
       "  <thead>\n",
       "    <tr style=\"text-align: right;\">\n",
       "      <th></th>\n",
       "      <th>Entity</th>\n",
       "      <th>Code</th>\n",
       "      <th>Year</th>\n",
       "      <th>Per capita plastic waste (kg/person/day)</th>\n",
       "      <th>GDP per capita, PPP (constant 2011 international $)</th>\n",
       "      <th>Total population (Gapminder, HYDE &amp; UN)</th>\n",
       "      <th>Continent</th>\n",
       "    </tr>\n",
       "  </thead>\n",
       "  <tbody>\n",
       "    <tr>\n",
       "      <th>0</th>\n",
       "      <td>Abkhazia</td>\n",
       "      <td>OWID_ABK</td>\n",
       "      <td>2015</td>\n",
       "      <td>NaN</td>\n",
       "      <td>NaN</td>\n",
       "      <td>NaN</td>\n",
       "      <td>Asia</td>\n",
       "    </tr>\n",
       "    <tr>\n",
       "      <th>1</th>\n",
       "      <td>Afghanistan</td>\n",
       "      <td>AFG</td>\n",
       "      <td>2002</td>\n",
       "      <td>NaN</td>\n",
       "      <td>1063.635574</td>\n",
       "      <td>22601000.0</td>\n",
       "      <td>NaN</td>\n",
       "    </tr>\n",
       "    <tr>\n",
       "      <th>2</th>\n",
       "      <td>Afghanistan</td>\n",
       "      <td>AFG</td>\n",
       "      <td>2003</td>\n",
       "      <td>NaN</td>\n",
       "      <td>1099.194507</td>\n",
       "      <td>23681000.0</td>\n",
       "      <td>NaN</td>\n",
       "    </tr>\n",
       "    <tr>\n",
       "      <th>3</th>\n",
       "      <td>Afghanistan</td>\n",
       "      <td>AFG</td>\n",
       "      <td>2004</td>\n",
       "      <td>NaN</td>\n",
       "      <td>1062.249360</td>\n",
       "      <td>24727000.0</td>\n",
       "      <td>NaN</td>\n",
       "    </tr>\n",
       "    <tr>\n",
       "      <th>4</th>\n",
       "      <td>Afghanistan</td>\n",
       "      <td>AFG</td>\n",
       "      <td>2005</td>\n",
       "      <td>NaN</td>\n",
       "      <td>1136.123214</td>\n",
       "      <td>25654000.0</td>\n",
       "      <td>NaN</td>\n",
       "    </tr>\n",
       "  </tbody>\n",
       "</table>\n",
       "</div>"
      ],
      "text/plain": [
       "        Entity      Code  Year  Per capita plastic waste (kg/person/day)  \\\n",
       "0     Abkhazia  OWID_ABK  2015                                       NaN   \n",
       "1  Afghanistan       AFG  2002                                       NaN   \n",
       "2  Afghanistan       AFG  2003                                       NaN   \n",
       "3  Afghanistan       AFG  2004                                       NaN   \n",
       "4  Afghanistan       AFG  2005                                       NaN   \n",
       "\n",
       "   GDP per capita, PPP (constant 2011 international $)  \\\n",
       "0                                                NaN     \n",
       "1                                        1063.635574     \n",
       "2                                        1099.194507     \n",
       "3                                        1062.249360     \n",
       "4                                        1136.123214     \n",
       "\n",
       "   Total population (Gapminder, HYDE & UN) Continent  \n",
       "0                                      NaN      Asia  \n",
       "1                               22601000.0       NaN  \n",
       "2                               23681000.0       NaN  \n",
       "3                               24727000.0       NaN  \n",
       "4                               25654000.0       NaN  "
      ]
     },
     "execution_count": 104,
     "metadata": {},
     "output_type": "execute_result"
    }
   ],
   "source": [
    "pcpw_gdp.head()"
   ]
  },
  {
   "cell_type": "code",
   "execution_count": 110,
   "id": "c8f2a63e",
   "metadata": {},
   "outputs": [
    {
     "data": {
      "text/html": [
       "<div>\n",
       "<style scoped>\n",
       "    .dataframe tbody tr th:only-of-type {\n",
       "        vertical-align: middle;\n",
       "    }\n",
       "\n",
       "    .dataframe tbody tr th {\n",
       "        vertical-align: top;\n",
       "    }\n",
       "\n",
       "    .dataframe thead th {\n",
       "        text-align: right;\n",
       "    }\n",
       "</style>\n",
       "<table border=\"1\" class=\"dataframe\">\n",
       "  <thead>\n",
       "    <tr style=\"text-align: right;\">\n",
       "      <th></th>\n",
       "      <th>Entity</th>\n",
       "      <th>Code</th>\n",
       "      <th>Year</th>\n",
       "      <th>Per capita plastic waste (kg/person/day)</th>\n",
       "      <th>GDP per capita, PPP (constant 2011 international $)</th>\n",
       "      <th>Total population (Gapminder, HYDE &amp; UN)</th>\n",
       "      <th>Continent</th>\n",
       "    </tr>\n",
       "  </thead>\n",
       "  <tbody>\n",
       "    <tr>\n",
       "      <th>1</th>\n",
       "      <td>Afghanistan</td>\n",
       "      <td>AFG</td>\n",
       "      <td>2002</td>\n",
       "      <td>NaN</td>\n",
       "      <td>1063.635574</td>\n",
       "      <td>22601000.0</td>\n",
       "      <td>NaN</td>\n",
       "    </tr>\n",
       "    <tr>\n",
       "      <th>2</th>\n",
       "      <td>Afghanistan</td>\n",
       "      <td>AFG</td>\n",
       "      <td>2003</td>\n",
       "      <td>NaN</td>\n",
       "      <td>1099.194507</td>\n",
       "      <td>23681000.0</td>\n",
       "      <td>NaN</td>\n",
       "    </tr>\n",
       "    <tr>\n",
       "      <th>3</th>\n",
       "      <td>Afghanistan</td>\n",
       "      <td>AFG</td>\n",
       "      <td>2004</td>\n",
       "      <td>NaN</td>\n",
       "      <td>1062.249360</td>\n",
       "      <td>24727000.0</td>\n",
       "      <td>NaN</td>\n",
       "    </tr>\n",
       "    <tr>\n",
       "      <th>4</th>\n",
       "      <td>Afghanistan</td>\n",
       "      <td>AFG</td>\n",
       "      <td>2005</td>\n",
       "      <td>NaN</td>\n",
       "      <td>1136.123214</td>\n",
       "      <td>25654000.0</td>\n",
       "      <td>NaN</td>\n",
       "    </tr>\n",
       "    <tr>\n",
       "      <th>5</th>\n",
       "      <td>Afghanistan</td>\n",
       "      <td>AFG</td>\n",
       "      <td>2006</td>\n",
       "      <td>NaN</td>\n",
       "      <td>1161.124889</td>\n",
       "      <td>26433000.0</td>\n",
       "      <td>NaN</td>\n",
       "    </tr>\n",
       "  </tbody>\n",
       "</table>\n",
       "</div>"
      ],
      "text/plain": [
       "        Entity Code  Year  Per capita plastic waste (kg/person/day)  \\\n",
       "1  Afghanistan  AFG  2002                                       NaN   \n",
       "2  Afghanistan  AFG  2003                                       NaN   \n",
       "3  Afghanistan  AFG  2004                                       NaN   \n",
       "4  Afghanistan  AFG  2005                                       NaN   \n",
       "5  Afghanistan  AFG  2006                                       NaN   \n",
       "\n",
       "   GDP per capita, PPP (constant 2011 international $)  \\\n",
       "1                                        1063.635574     \n",
       "2                                        1099.194507     \n",
       "3                                        1062.249360     \n",
       "4                                        1136.123214     \n",
       "5                                        1161.124889     \n",
       "\n",
       "   Total population (Gapminder, HYDE & UN) Continent  \n",
       "1                               22601000.0       NaN  \n",
       "2                               23681000.0       NaN  \n",
       "3                               24727000.0       NaN  \n",
       "4                               25654000.0       NaN  \n",
       "5                               26433000.0       NaN  "
      ]
     },
     "execution_count": 110,
     "metadata": {},
     "output_type": "execute_result"
    }
   ],
   "source": [
    "#droping null values from Per Capita Plastic Waste VS GDP Per Capita dataset\n",
    "df = pcpw_gdp[pcpw_gdp['GDP per capita, PPP (constant 2011 international $)'].notna() & \n",
    "              pcpw_gdp['Total population (Gapminder, HYDE & UN)'].notna()]\n",
    "df.head()"
   ]
  },
  {
   "cell_type": "code",
   "execution_count": 113,
   "id": "c445442a",
   "metadata": {},
   "outputs": [
    {
     "data": {
      "text/html": [
       "<div>\n",
       "<style scoped>\n",
       "    .dataframe tbody tr th:only-of-type {\n",
       "        vertical-align: middle;\n",
       "    }\n",
       "\n",
       "    .dataframe tbody tr th {\n",
       "        vertical-align: top;\n",
       "    }\n",
       "\n",
       "    .dataframe thead th {\n",
       "        text-align: right;\n",
       "    }\n",
       "</style>\n",
       "<table border=\"1\" class=\"dataframe\">\n",
       "  <thead>\n",
       "    <tr style=\"text-align: right;\">\n",
       "      <th></th>\n",
       "      <th>Entity</th>\n",
       "      <th>Code</th>\n",
       "      <th>Year</th>\n",
       "      <th>Per capita plastic waste (kg/person/day)</th>\n",
       "      <th>GDP per capita, PPP (constant 2011 international $)</th>\n",
       "      <th>Total population (Gapminder, HYDE &amp; UN)</th>\n",
       "      <th>Continent</th>\n",
       "    </tr>\n",
       "  </thead>\n",
       "  <tbody>\n",
       "    <tr>\n",
       "      <th>9</th>\n",
       "      <td>Afghanistan</td>\n",
       "      <td>AFG</td>\n",
       "      <td>2010</td>\n",
       "      <td>NaN</td>\n",
       "      <td>1614.255001</td>\n",
       "      <td>29186000.0</td>\n",
       "      <td>NaN</td>\n",
       "    </tr>\n",
       "    <tr>\n",
       "      <th>344</th>\n",
       "      <td>Albania</td>\n",
       "      <td>ALB</td>\n",
       "      <td>2010</td>\n",
       "      <td>0.069</td>\n",
       "      <td>9927.181841</td>\n",
       "      <td>2948000.0</td>\n",
       "      <td>NaN</td>\n",
       "    </tr>\n",
       "    <tr>\n",
       "      <th>564</th>\n",
       "      <td>Algeria</td>\n",
       "      <td>DZA</td>\n",
       "      <td>2010</td>\n",
       "      <td>0.144</td>\n",
       "      <td>12870.602699</td>\n",
       "      <td>35977000.0</td>\n",
       "      <td>NaN</td>\n",
       "    </tr>\n",
       "    <tr>\n",
       "      <th>1074</th>\n",
       "      <td>Angola</td>\n",
       "      <td>AGO</td>\n",
       "      <td>2010</td>\n",
       "      <td>0.062</td>\n",
       "      <td>5897.682841</td>\n",
       "      <td>23356000.0</td>\n",
       "      <td>NaN</td>\n",
       "    </tr>\n",
       "    <tr>\n",
       "      <th>1365</th>\n",
       "      <td>Antigua and Barbuda</td>\n",
       "      <td>ATG</td>\n",
       "      <td>2010</td>\n",
       "      <td>0.660</td>\n",
       "      <td>19212.720131</td>\n",
       "      <td>88000.0</td>\n",
       "      <td>NaN</td>\n",
       "    </tr>\n",
       "  </tbody>\n",
       "</table>\n",
       "</div>"
      ],
      "text/plain": [
       "                   Entity Code  Year  \\\n",
       "9             Afghanistan  AFG  2010   \n",
       "344               Albania  ALB  2010   \n",
       "564               Algeria  DZA  2010   \n",
       "1074               Angola  AGO  2010   \n",
       "1365  Antigua and Barbuda  ATG  2010   \n",
       "\n",
       "      Per capita plastic waste (kg/person/day)  \\\n",
       "9                                          NaN   \n",
       "344                                      0.069   \n",
       "564                                      0.144   \n",
       "1074                                     0.062   \n",
       "1365                                     0.660   \n",
       "\n",
       "      GDP per capita, PPP (constant 2011 international $)  \\\n",
       "9                                           1614.255001     \n",
       "344                                         9927.181841     \n",
       "564                                        12870.602699     \n",
       "1074                                        5897.682841     \n",
       "1365                                       19212.720131     \n",
       "\n",
       "      Total population (Gapminder, HYDE & UN) Continent  \n",
       "9                                  29186000.0       NaN  \n",
       "344                                 2948000.0       NaN  \n",
       "564                                35977000.0       NaN  \n",
       "1074                               23356000.0       NaN  \n",
       "1365                                  88000.0       NaN  "
      ]
     },
     "execution_count": 113,
     "metadata": {},
     "output_type": "execute_result"
    }
   ],
   "source": [
    "#only for 2010\n",
    "df = df[df['Year'] == 2010]\n",
    "df.head()"
   ]
  },
  {
   "cell_type": "code",
   "execution_count": 116,
   "id": "dec7e55a",
   "metadata": {},
   "outputs": [],
   "source": [
    "df.drop(columns=['Per capita plastic waste (kg/person/day)','Continent'], inplace=True)"
   ]
  },
  {
   "cell_type": "code",
   "execution_count": 117,
   "id": "b4e0c2fd",
   "metadata": {},
   "outputs": [
    {
     "data": {
      "text/html": [
       "<div>\n",
       "<style scoped>\n",
       "    .dataframe tbody tr th:only-of-type {\n",
       "        vertical-align: middle;\n",
       "    }\n",
       "\n",
       "    .dataframe tbody tr th {\n",
       "        vertical-align: top;\n",
       "    }\n",
       "\n",
       "    .dataframe thead th {\n",
       "        text-align: right;\n",
       "    }\n",
       "</style>\n",
       "<table border=\"1\" class=\"dataframe\">\n",
       "  <thead>\n",
       "    <tr style=\"text-align: right;\">\n",
       "      <th></th>\n",
       "      <th>Entity</th>\n",
       "      <th>Code</th>\n",
       "      <th>Year</th>\n",
       "      <th>GDP per capita, PPP (constant 2011 international $)</th>\n",
       "      <th>Total population (Gapminder, HYDE &amp; UN)</th>\n",
       "    </tr>\n",
       "  </thead>\n",
       "  <tbody>\n",
       "    <tr>\n",
       "      <th>9</th>\n",
       "      <td>Afghanistan</td>\n",
       "      <td>AFG</td>\n",
       "      <td>2010</td>\n",
       "      <td>1614.255001</td>\n",
       "      <td>29186000.0</td>\n",
       "    </tr>\n",
       "    <tr>\n",
       "      <th>344</th>\n",
       "      <td>Albania</td>\n",
       "      <td>ALB</td>\n",
       "      <td>2010</td>\n",
       "      <td>9927.181841</td>\n",
       "      <td>2948000.0</td>\n",
       "    </tr>\n",
       "    <tr>\n",
       "      <th>564</th>\n",
       "      <td>Algeria</td>\n",
       "      <td>DZA</td>\n",
       "      <td>2010</td>\n",
       "      <td>12870.602699</td>\n",
       "      <td>35977000.0</td>\n",
       "    </tr>\n",
       "    <tr>\n",
       "      <th>1074</th>\n",
       "      <td>Angola</td>\n",
       "      <td>AGO</td>\n",
       "      <td>2010</td>\n",
       "      <td>5897.682841</td>\n",
       "      <td>23356000.0</td>\n",
       "    </tr>\n",
       "    <tr>\n",
       "      <th>1365</th>\n",
       "      <td>Antigua and Barbuda</td>\n",
       "      <td>ATG</td>\n",
       "      <td>2010</td>\n",
       "      <td>19212.720131</td>\n",
       "      <td>88000.0</td>\n",
       "    </tr>\n",
       "  </tbody>\n",
       "</table>\n",
       "</div>"
      ],
      "text/plain": [
       "                   Entity Code  Year  \\\n",
       "9             Afghanistan  AFG  2010   \n",
       "344               Albania  ALB  2010   \n",
       "564               Algeria  DZA  2010   \n",
       "1074               Angola  AGO  2010   \n",
       "1365  Antigua and Barbuda  ATG  2010   \n",
       "\n",
       "      GDP per capita, PPP (constant 2011 international $)  \\\n",
       "9                                           1614.255001     \n",
       "344                                         9927.181841     \n",
       "564                                        12870.602699     \n",
       "1074                                        5897.682841     \n",
       "1365                                       19212.720131     \n",
       "\n",
       "      Total population (Gapminder, HYDE & UN)  \n",
       "9                                  29186000.0  \n",
       "344                                 2948000.0  \n",
       "564                                35977000.0  \n",
       "1074                               23356000.0  \n",
       "1365                                  88000.0  "
      ]
     },
     "execution_count": 117,
     "metadata": {},
     "output_type": "execute_result"
    }
   ],
   "source": [
    "df.head()"
   ]
  },
  {
   "cell_type": "code",
   "execution_count": 118,
   "id": "8dbe92f2",
   "metadata": {},
   "outputs": [
    {
     "data": {
      "text/plain": [
       "(191, 5)"
      ]
     },
     "execution_count": 118,
     "metadata": {},
     "output_type": "execute_result"
    }
   ],
   "source": [
    "df.shape"
   ]
  },
  {
   "cell_type": "code",
   "execution_count": 123,
   "id": "2eb8b04f",
   "metadata": {},
   "outputs": [
    {
     "data": {
      "text/html": [
       "<div>\n",
       "<style scoped>\n",
       "    .dataframe tbody tr th:only-of-type {\n",
       "        vertical-align: middle;\n",
       "    }\n",
       "\n",
       "    .dataframe tbody tr th {\n",
       "        vertical-align: top;\n",
       "    }\n",
       "\n",
       "    .dataframe thead th {\n",
       "        text-align: right;\n",
       "    }\n",
       "</style>\n",
       "<table border=\"1\" class=\"dataframe\">\n",
       "  <thead>\n",
       "    <tr style=\"text-align: right;\">\n",
       "      <th></th>\n",
       "      <th>Entity_x</th>\n",
       "      <th>Code</th>\n",
       "      <th>Year_x</th>\n",
       "      <th>Per capita plastic waste (kg/person/day)</th>\n",
       "      <th>Mismanaged waste (% global total)</th>\n",
       "      <th>Entity_y</th>\n",
       "      <th>Year_y</th>\n",
       "      <th>GDP per capita, PPP (constant 2011 international $)</th>\n",
       "      <th>Total population (Gapminder, HYDE &amp; UN)</th>\n",
       "    </tr>\n",
       "  </thead>\n",
       "  <tbody>\n",
       "    <tr>\n",
       "      <th>0</th>\n",
       "      <td>Albania</td>\n",
       "      <td>ALB</td>\n",
       "      <td>2010</td>\n",
       "      <td>0.069</td>\n",
       "      <td>0.0933</td>\n",
       "      <td>Albania</td>\n",
       "      <td>2010</td>\n",
       "      <td>9927.181841</td>\n",
       "      <td>2948000.0</td>\n",
       "    </tr>\n",
       "    <tr>\n",
       "      <th>1</th>\n",
       "      <td>Algeria</td>\n",
       "      <td>DZA</td>\n",
       "      <td>2010</td>\n",
       "      <td>0.144</td>\n",
       "      <td>1.6347</td>\n",
       "      <td>Algeria</td>\n",
       "      <td>2010</td>\n",
       "      <td>12870.602699</td>\n",
       "      <td>35977000.0</td>\n",
       "    </tr>\n",
       "    <tr>\n",
       "      <th>2</th>\n",
       "      <td>Angola</td>\n",
       "      <td>AGO</td>\n",
       "      <td>2010</td>\n",
       "      <td>0.062</td>\n",
       "      <td>0.1964</td>\n",
       "      <td>Angola</td>\n",
       "      <td>2010</td>\n",
       "      <td>5897.682841</td>\n",
       "      <td>23356000.0</td>\n",
       "    </tr>\n",
       "    <tr>\n",
       "      <th>3</th>\n",
       "      <td>Antigua and Barbuda</td>\n",
       "      <td>ATG</td>\n",
       "      <td>2010</td>\n",
       "      <td>0.660</td>\n",
       "      <td>0.0039</td>\n",
       "      <td>Antigua and Barbuda</td>\n",
       "      <td>2010</td>\n",
       "      <td>19212.720131</td>\n",
       "      <td>88000.0</td>\n",
       "    </tr>\n",
       "    <tr>\n",
       "      <th>4</th>\n",
       "      <td>Argentina</td>\n",
       "      <td>ARG</td>\n",
       "      <td>2010</td>\n",
       "      <td>0.183</td>\n",
       "      <td>0.4955</td>\n",
       "      <td>Argentina</td>\n",
       "      <td>2010</td>\n",
       "      <td>18712.063077</td>\n",
       "      <td>40896000.0</td>\n",
       "    </tr>\n",
       "  </tbody>\n",
       "</table>\n",
       "</div>"
      ],
      "text/plain": [
       "              Entity_x Code  Year_x  Per capita plastic waste (kg/person/day)  \\\n",
       "0              Albania  ALB    2010                                     0.069   \n",
       "1              Algeria  DZA    2010                                     0.144   \n",
       "2               Angola  AGO    2010                                     0.062   \n",
       "3  Antigua and Barbuda  ATG    2010                                     0.660   \n",
       "4            Argentina  ARG    2010                                     0.183   \n",
       "\n",
       "   Mismanaged waste (% global total)             Entity_y  Year_y  \\\n",
       "0                             0.0933              Albania    2010   \n",
       "1                             1.6347              Algeria    2010   \n",
       "2                             0.1964               Angola    2010   \n",
       "3                             0.0039  Antigua and Barbuda    2010   \n",
       "4                             0.4955            Argentina    2010   \n",
       "\n",
       "   GDP per capita, PPP (constant 2011 international $)  \\\n",
       "0                                        9927.181841     \n",
       "1                                       12870.602699     \n",
       "2                                        5897.682841     \n",
       "3                                       19212.720131     \n",
       "4                                       18712.063077     \n",
       "\n",
       "   Total population (Gapminder, HYDE & UN)  \n",
       "0                                2948000.0  \n",
       "1                               35977000.0  \n",
       "2                               23356000.0  \n",
       "3                                  88000.0  \n",
       "4                               40896000.0  "
      ]
     },
     "execution_count": 123,
     "metadata": {},
     "output_type": "execute_result"
    }
   ],
   "source": [
    "#final merge \n",
    "final_merge = pd.merge(merged_df, df, on=\"Code\")\n",
    "final_merge.head()"
   ]
  },
  {
   "cell_type": "code",
   "execution_count": 125,
   "id": "267499a8",
   "metadata": {},
   "outputs": [
    {
     "data": {
      "text/html": [
       "<div>\n",
       "<style scoped>\n",
       "    .dataframe tbody tr th:only-of-type {\n",
       "        vertical-align: middle;\n",
       "    }\n",
       "\n",
       "    .dataframe tbody tr th {\n",
       "        vertical-align: top;\n",
       "    }\n",
       "\n",
       "    .dataframe thead th {\n",
       "        text-align: right;\n",
       "    }\n",
       "</style>\n",
       "<table border=\"1\" class=\"dataframe\">\n",
       "  <thead>\n",
       "    <tr style=\"text-align: right;\">\n",
       "      <th></th>\n",
       "      <th>Entity</th>\n",
       "      <th>Code</th>\n",
       "      <th>Year</th>\n",
       "      <th>Plastic waste per Person(kg/day)</th>\n",
       "      <th>Mismanaged waste (% global total)</th>\n",
       "      <th>GDP per capita in PPP</th>\n",
       "      <th>Total population</th>\n",
       "    </tr>\n",
       "  </thead>\n",
       "  <tbody>\n",
       "    <tr>\n",
       "      <th>0</th>\n",
       "      <td>Albania</td>\n",
       "      <td>ALB</td>\n",
       "      <td>2010</td>\n",
       "      <td>0.069</td>\n",
       "      <td>0.0933</td>\n",
       "      <td>9927.181841</td>\n",
       "      <td>2948000.0</td>\n",
       "    </tr>\n",
       "    <tr>\n",
       "      <th>1</th>\n",
       "      <td>Algeria</td>\n",
       "      <td>DZA</td>\n",
       "      <td>2010</td>\n",
       "      <td>0.144</td>\n",
       "      <td>1.6347</td>\n",
       "      <td>12870.602699</td>\n",
       "      <td>35977000.0</td>\n",
       "    </tr>\n",
       "    <tr>\n",
       "      <th>2</th>\n",
       "      <td>Angola</td>\n",
       "      <td>AGO</td>\n",
       "      <td>2010</td>\n",
       "      <td>0.062</td>\n",
       "      <td>0.1964</td>\n",
       "      <td>5897.682841</td>\n",
       "      <td>23356000.0</td>\n",
       "    </tr>\n",
       "    <tr>\n",
       "      <th>3</th>\n",
       "      <td>Antigua and Barbuda</td>\n",
       "      <td>ATG</td>\n",
       "      <td>2010</td>\n",
       "      <td>0.660</td>\n",
       "      <td>0.0039</td>\n",
       "      <td>19212.720131</td>\n",
       "      <td>88000.0</td>\n",
       "    </tr>\n",
       "    <tr>\n",
       "      <th>4</th>\n",
       "      <td>Argentina</td>\n",
       "      <td>ARG</td>\n",
       "      <td>2010</td>\n",
       "      <td>0.183</td>\n",
       "      <td>0.4955</td>\n",
       "      <td>18712.063077</td>\n",
       "      <td>40896000.0</td>\n",
       "    </tr>\n",
       "  </tbody>\n",
       "</table>\n",
       "</div>"
      ],
      "text/plain": [
       "                Entity Code  Year  Plastic waste per Person(kg/day)  \\\n",
       "0              Albania  ALB  2010                             0.069   \n",
       "1              Algeria  DZA  2010                             0.144   \n",
       "2               Angola  AGO  2010                             0.062   \n",
       "3  Antigua and Barbuda  ATG  2010                             0.660   \n",
       "4            Argentina  ARG  2010                             0.183   \n",
       "\n",
       "   Mismanaged waste (% global total)  GDP per capita in PPP  Total population  \n",
       "0                             0.0933            9927.181841         2948000.0  \n",
       "1                             1.6347           12870.602699        35977000.0  \n",
       "2                             0.1964            5897.682841        23356000.0  \n",
       "3                             0.0039           19212.720131           88000.0  \n",
       "4                             0.4955           18712.063077        40896000.0  "
      ]
     },
     "execution_count": 125,
     "metadata": {},
     "output_type": "execute_result"
    }
   ],
   "source": [
    "final_merge.rename(columns={\"Entity_x\":\"Entity\",\"Year_x\":\"Year\",\n",
    "                            \"Per capita plastic waste (kg/person/day)\":\"Plastic waste per Person(kg/day)\",\n",
    "                           \"GDP per capita, PPP (constant 2011 international $)\": \"GDP per capita in PPP\",\n",
    "                           \"Total population (Gapminder, HYDE & UN)\":\"Total population\"},inplace=True)\n",
    "final_merge.drop(columns=[\"Entity_y\",\"Year_y\"],inplace=True)\n",
    "final_merge.head()"
   ]
  },
  {
   "cell_type": "code",
   "execution_count": 126,
   "id": "a9206e4c",
   "metadata": {},
   "outputs": [
    {
     "data": {
      "text/plain": [
       "Entity                               0\n",
       "Code                                 0\n",
       "Year                                 0\n",
       "Plastic waste per Person(kg/day)     0\n",
       "Mismanaged waste (% global total)    0\n",
       "GDP per capita in PPP                0\n",
       "Total population                     0\n",
       "dtype: int64"
      ]
     },
     "execution_count": 126,
     "metadata": {},
     "output_type": "execute_result"
    }
   ],
   "source": [
    "final_merge.isnull().sum()"
   ]
  },
  {
   "cell_type": "code",
   "execution_count": 127,
   "id": "ffdacff8",
   "metadata": {},
   "outputs": [
    {
     "data": {
      "text/plain": [
       "(148, 7)"
      ]
     },
     "execution_count": 127,
     "metadata": {},
     "output_type": "execute_result"
    }
   ],
   "source": [
    "final_merge.shape"
   ]
  },
  {
   "cell_type": "markdown",
   "id": "37101ab8",
   "metadata": {},
   "source": [
    "### Plastic waste per person VS GDP per person"
   ]
  },
  {
   "cell_type": "code",
   "execution_count": 132,
   "id": "72c4ad88",
   "metadata": {},
   "outputs": [
    {
     "data": {
      "image/png": "[encoded data removed]",
      "text/plain": [
       "<Figure size 1000x600 with 1 Axes>"
      ]
     },
     "metadata": {},
     "output_type": "display_data"
    }
   ],
   "source": [
    "plt.figure(figsize=(10,6))\n",
    "sns.scatterplot(y=final_merge['Plastic waste per Person(kg/day)'],x=final_merge['GDP per capita in PPP'])\n",
    "sns.regplot(y=final_merge['Plastic waste per Person(kg/day)'],x=final_merge['GDP per capita in PPP'])\n",
    "plt.show()"
   ]
  },
  {
   "cell_type": "markdown",
   "id": "d964e465",
   "metadata": {},
   "source": [
    "- **It is an important finding that as the GDP per person increases Plastic waste per person also increases.**"
   ]
  }
 ],
 "metadata": {
  "kernelspec": {
   "display_name": "Python 3 (ipykernel)",
   "language": "python",
   "name": "python3"
  },
  "language_info": {
   "codemirror_mode": {
    "name": "ipython",
    "version": 3
   },
   "file_extension": ".py",
   "mimetype": "text/x-python",
   "name": "python",
   "nbconvert_exporter": "python",
   "pygments_lexer": "ipython3",
   "version": "3.10.6"
  }
 },
 "nbformat": 4,
 "nbformat_minor": 5
}
